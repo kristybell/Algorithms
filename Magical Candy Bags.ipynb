{
 "cells": [
  {
   "cell_type": "markdown",
   "metadata": {},
   "source": [
    "# Magical Candy Bags\n",
    "\n",
    "You have N bags of candy. The -ith bag contains arr[i] pieces of candy, and each of the bags is magical!\n",
    "\n",
    "It takes you 1 minute to eat all of the pieces of candy in a bag (irrespective of how many pieces of candy are inside), and as soon as you finish, the bag mysteriously refills. If there were x pieces of candy in the bag at the beginning of the minute, then after you've finished you'll find that floor (x/2) pieces are inside.\n",
    "\n",
    "You have K minutes to eat as much candy as possible. How many pieces of candy can you eat?\n",
    "\n",
    "## Signature\n",
    "int maxCandies(int[] arr, int K)\n",
    "\n",
    "## Input\n",
    "1 ≤ N ≤ 10,000\n",
    "1 ≤ arr[i] ≤ 1,000,000,000\n",
    "\n",
    "## Output\n",
    "A single integer, the maximum number of candies you can eat in K minutes.\n",
    "\n",
    "### Example 1\n",
    "* N = 5 \n",
    "* K = 3\n",
    "* arr = [2, 1, 7, 4, 2]\n",
    "* output = 14\n",
    "\n",
    "In the first minute you can eat 7 pieces of candy. That bag will refill with floor(7/2) = 3 pieces.\n",
    "In the second minute you can eat 4 pieces of candy from another bag. That bag will refill with floor(4/2) = 2 pieces.\n",
    "In the third minute you can eat the 3 pieces of candy that have appeared in the first bag that you ate.\n",
    "In total you can eat 7 + 4 + 3 = 14 pieces of candy."
   ]
  },
  {
   "cell_type": "code",
   "execution_count": 17,
   "metadata": {},
   "outputs": [],
   "source": [
    "def maxCandies(arr, k):\n",
    "  # Import relevant libraries\n",
    "  import math\n",
    "  \n",
    "  # Determine the length of the array\n",
    "  n = len(arr)\n",
    "  \n",
    "  # Create an empty set to hold the max amount of candy eaten within each minute\n",
    "  candy_eaten = []\n",
    " \n",
    "  # Create a counter for the time allotted\n",
    "  i = 1\n",
    "  \n",
    "  while(i < k+1):\n",
    "    # Find the bag with the maximum amount of candy\n",
    "    m = max(arr)\n",
    "    # Add to the empty list\n",
    "    candy_eaten.append(m)\n",
    "    # Determine the candy refill amount into a dummy variable\n",
    "    x = math.floor(m/2)\n",
    "    # Determine the index of max amount\n",
    "    j = arr.index(m)\n",
    "    # Remove the max integer in the index of max(arr)\n",
    "    arr.pop(j)\n",
    "    # Add the candy refill to the array\n",
    "    arr.insert(j, x)\n",
    "    # Move on to the next minute alotted\n",
    "    i += 1\n",
    "  \n",
    "  # Once the time allotted is up, count the number of candies eaten\n",
    "  return sum(candy_eaten)"
   ]
  },
  {
   "cell_type": "code",
   "execution_count": 18,
   "metadata": {},
   "outputs": [
    {
     "data": {
      "text/plain": [
       "[2, 1, 7, 4, 2]"
      ]
     },
     "execution_count": 18,
     "metadata": {},
     "output_type": "execute_result"
    }
   ],
   "source": [
    "arr = [2, 1, 7, 4, 2]\n",
    "arr"
   ]
  },
  {
   "cell_type": "code",
   "execution_count": 19,
   "metadata": {},
   "outputs": [
    {
     "data": {
      "text/plain": [
       "3"
      ]
     },
     "execution_count": 19,
     "metadata": {},
     "output_type": "execute_result"
    }
   ],
   "source": [
    "k = 3\n",
    "k"
   ]
  },
  {
   "cell_type": "code",
   "execution_count": 20,
   "metadata": {},
   "outputs": [
    {
     "data": {
      "text/plain": [
       "14"
      ]
     },
     "execution_count": 20,
     "metadata": {},
     "output_type": "execute_result"
    }
   ],
   "source": [
    "maxCandies(arr, k)"
   ]
  },
  {
   "cell_type": "code",
   "execution_count": 21,
   "metadata": {},
   "outputs": [
    {
     "data": {
      "text/plain": [
       "[19, 78, 76, 72, 48, 8, 24, 74, 29]"
      ]
     },
     "execution_count": 21,
     "metadata": {},
     "output_type": "execute_result"
    }
   ],
   "source": [
    "arr_2 = [19, 78, 76, 72, 48, 8, 24, 74, 29]\n",
    "arr_2"
   ]
  },
  {
   "cell_type": "code",
   "execution_count": 23,
   "metadata": {},
   "outputs": [],
   "source": [
    "k_2 = 3"
   ]
  },
  {
   "cell_type": "code",
   "execution_count": 24,
   "metadata": {},
   "outputs": [
    {
     "data": {
      "text/plain": [
       "228"
      ]
     },
     "execution_count": 24,
     "metadata": {},
     "output_type": "execute_result"
    }
   ],
   "source": [
    "maxCandies(arr_2, k_2)"
   ]
  }
 ],
 "metadata": {
  "kernelspec": {
   "display_name": "Python 3",
   "language": "python",
   "name": "python3"
  },
  "language_info": {
   "codemirror_mode": {
    "name": "ipython",
    "version": 3
   },
   "file_extension": ".py",
   "mimetype": "text/x-python",
   "name": "python",
   "nbconvert_exporter": "python",
   "pygments_lexer": "ipython3",
   "version": "3.7.5"
  }
 },
 "nbformat": 4,
 "nbformat_minor": 2
}
