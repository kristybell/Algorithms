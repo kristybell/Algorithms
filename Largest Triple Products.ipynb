{
 "cells": [
  {
   "cell_type": "markdown",
   "metadata": {},
   "source": [
    "# Larget Triple Products\n",
    "\n",
    "You're given a list of n integers arr[0..(n-1)]. You must compute a list output[0..(n-1)] such that, for each index i (between 0 and n-1, inclusive), output[i] is equal to the product of the three largest elements out of arr[0..i] (or equal to -1 if i < 2, as arr[0..i] then includes fewer than three elements).\n",
    "\n",
    "Note that the three largest elements used to form any product may have the same values as one another, but they must be at different indices in arr.\n",
    "\n",
    "## Signature\n",
    "int[] findMaxProduct(int[] arr)\n",
    "\n",
    "## Input\n",
    "n is in the range [1, 100,000].\n",
    "Each value arr[i] is in the range [1, 1,000].\n",
    "\n",
    "## Output\n",
    "Return a list of n integers output[0..(n-1)], as described above.\n",
    "\n",
    "### Example 1\n",
    "* n = 5\n",
    "* arr = [1, 2, 3, 4, 5]\n",
    "* output = [-1, -1, 6, 24, 60]\n",
    "* The 3rd element of output is 3*2*1 = 6, the 4th is 4*3*2 = 24, and the 5th is 5*4*3 = 60.\n",
    "\n",
    "### Example 2\n",
    "* n = 5\n",
    "* arr = [2, 1, 2, 1, 2]\n",
    "* output = [-1, -1, 4, 4, 8]\n",
    "* The 3rd element of output is 2*2*1 = 4, the 4th is 2*2*1 = 4, and the 5th is 2*2*2 = 8."
   ]
  },
  {
   "cell_type": "code",
   "execution_count": 41,
   "metadata": {},
   "outputs": [],
   "source": [
    "def findMaxProduct(arr):\n",
    "  # Determine the length of the input array\n",
    "  n = len(arr)\n",
    "  #print('n:', n)\n",
    " \n",
    "  # Create an empty set \n",
    "  output = []\n",
    "  #print('output:', output)\n",
    "  \n",
    "  # Set a counter\n",
    "  i = 0\n",
    "  \n",
    "  # Reiterate over the array with a while loop\n",
    "  while(i < n):\n",
    "    if(i == 0 or i == 1):\n",
    "      output.append(-1)\n",
    "      #print('output:', output)\n",
    "      i += 1\n",
    "      \n",
    "    else:\n",
    "      if(i == 2):\n",
    "        # Create a dummy variable for the integer to the left of arr[i]\n",
    "        x = arr[i-1]\n",
    "        # Create a dummy variable for the integer to spaces to the left of arr[i]\n",
    "        y = arr[i-2]\n",
    "        # Determine the product and append to the empty set list\n",
    "        output.append(arr[i] * x * y)\n",
    "        i += 1\n",
    "        \n",
    "      else:\n",
    "        # Create an empty list\n",
    "        new_arr = []          \n",
    "        \n",
    "        # Create a new array from 0 to i, then sort\n",
    "        for a in range(0, i+1):\n",
    "          new_arr.append(arr[a])\n",
    "          new_arr = sorted(new_arr)\n",
    "        \n",
    "        # Determine the integers of the two integers to the left of arr[i]\n",
    "        x2 = new_arr[i-1]\n",
    "        y2 = new_arr[i-2]\n",
    "        \n",
    "        # Append the three largest products to the output list\n",
    "        output.append(new_arr[i] * x2 * y2)\n",
    "        i += 1\n",
    "  \n",
    "  # Return the output list\n",
    "  return output"
   ]
  },
  {
   "cell_type": "code",
   "execution_count": 43,
   "metadata": {},
   "outputs": [
    {
     "data": {
      "text/plain": [
       "[1, 2, 3, 4, 5]"
      ]
     },
     "execution_count": 43,
     "metadata": {},
     "output_type": "execute_result"
    }
   ],
   "source": [
    "arr_1 = [1, 2, 3, 4, 5]\n",
    "arr_1"
   ]
  },
  {
   "cell_type": "code",
   "execution_count": 44,
   "metadata": {},
   "outputs": [
    {
     "data": {
      "text/plain": [
       "[2, 4, 7, 1, 5, 3]"
      ]
     },
     "execution_count": 44,
     "metadata": {},
     "output_type": "execute_result"
    }
   ],
   "source": [
    "arr_2 = [2, 4, 7, 1, 5, 3]\n",
    "arr_2"
   ]
  },
  {
   "cell_type": "code",
   "execution_count": 45,
   "metadata": {},
   "outputs": [
    {
     "data": {
      "text/plain": [
       "[-1, -1, 6, 24, 60]"
      ]
     },
     "execution_count": 45,
     "metadata": {},
     "output_type": "execute_result"
    }
   ],
   "source": [
    "findMaxProduct(arr_1)"
   ]
  },
  {
   "cell_type": "code",
   "execution_count": 46,
   "metadata": {},
   "outputs": [
    {
     "data": {
      "text/plain": [
       "[-1, -1, 56, 56, 140, 140]"
      ]
     },
     "execution_count": 46,
     "metadata": {},
     "output_type": "execute_result"
    }
   ],
   "source": [
    "findMaxProduct(arr_2)"
   ]
  },
  {
   "cell_type": "code",
   "execution_count": null,
   "metadata": {},
   "outputs": [],
   "source": []
  }
 ],
 "metadata": {
  "kernelspec": {
   "display_name": "Python 3",
   "language": "python",
   "name": "python3"
  },
  "language_info": {
   "codemirror_mode": {
    "name": "ipython",
    "version": 3
   },
   "file_extension": ".py",
   "mimetype": "text/x-python",
   "name": "python",
   "nbconvert_exporter": "python",
   "pygments_lexer": "ipython3",
   "version": "3.7.5"
  }
 },
 "nbformat": 4,
 "nbformat_minor": 2
}
