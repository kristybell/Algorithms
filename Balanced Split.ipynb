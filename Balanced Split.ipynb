{
 "cells": [
  {
   "cell_type": "markdown",
   "metadata": {},
   "source": [
    "# Balanced Split\n",
    "Given a set of integers (which may include repeated integers), determine if there's a way to split the set into two subsets **A** and **B** such that the sum of the integers in both sets is the same, and all of the integers in **A** are strictly smaller than all of the integers in **B**.\n",
    "\n",
    "Note: Strictly smaller denotes that every integer in **A** must be less than, and not equal to, every integer **B**\n",
    "\n",
    "## Signature\n",
    "bool balancedSplitExists(int[] arr)\n",
    "\n",
    "## Input\n",
    "All integers in array are in the range [0, 1,000,000,000]\n",
    "\n",
    "## Output \n",
    "Return true if such a split is possible, and false otherwise\n",
    "\n",
    "### Example 1\n",
    "* arr = [1, 5, 7, 1]\n",
    "* output = true\n",
    "\n",
    "We can split the set into **A** = {1, 1, 5} and **B** = {7}\n",
    "\n",
    "### Example 2\n",
    "* arr = [12, 7, 6, 7, 6]\n",
    "* output = false\n",
    "\n",
    "We can't split the set into **A**= {6, 6, 7} and **B** = {7, 12}, since this doesn't satisfy the requirement that all integers in **A** are smaller than all integers **B**."
   ]
  },
  {
   "cell_type": "code",
   "execution_count": 8,
   "metadata": {},
   "outputs": [],
   "source": [
    "def balancedSplitExists(arr):\n",
    "  # Write your code here\n",
    "  # Determine the length of the array\n",
    "  n = len(arr)\n",
    "  \n",
    "  # Sort the array\n",
    "  arr = sorted(arr)\n",
    "  \n",
    "  # Create an empty set\n",
    "  temp = []\n",
    "  \n",
    "  # Create a counter\n",
    "  i = 1\n",
    "  \n",
    "  while(i < n):\n",
    "    max_int = arr[-1]\n",
    "    arr.pop(arr.index(max_int))\n",
    "    temp.append(max_int)\n",
    "    \n",
    "    if(sum(arr) == sum(temp)):\n",
    "      result = False\n",
    "      for x in arr:\n",
    "        for y in temp:\n",
    "          if(x == y):\n",
    "            result = True\n",
    "        \n",
    "      # Check if similar element in both list\n",
    "      if(result == False):\n",
    "        return True\n",
    "      \n",
    "      else:\n",
    "        i += 1\n",
    "        return False"
   ]
  },
  {
   "cell_type": "code",
   "execution_count": 9,
   "metadata": {},
   "outputs": [],
   "source": [
    "arr = [12, 7, 6, 7, 6]"
   ]
  },
  {
   "cell_type": "code",
   "execution_count": 10,
   "metadata": {},
   "outputs": [
    {
     "data": {
      "text/plain": [
       "False"
      ]
     },
     "execution_count": 10,
     "metadata": {},
     "output_type": "execute_result"
    }
   ],
   "source": [
    "balancedSplitExists(arr)"
   ]
  },
  {
   "cell_type": "code",
   "execution_count": 11,
   "metadata": {},
   "outputs": [],
   "source": [
    "arr1, arr2 = [2, 1, 2, 5], [3, 6, 3, 4, 4]"
   ]
  },
  {
   "cell_type": "code",
   "execution_count": 12,
   "metadata": {},
   "outputs": [
    {
     "data": {
      "text/plain": [
       "True"
      ]
     },
     "execution_count": 12,
     "metadata": {},
     "output_type": "execute_result"
    }
   ],
   "source": [
    "balancedSplitExists(arr1)"
   ]
  },
  {
   "cell_type": "code",
   "execution_count": 13,
   "metadata": {},
   "outputs": [
    {
     "data": {
      "text/plain": [
       "False"
      ]
     },
     "execution_count": 13,
     "metadata": {},
     "output_type": "execute_result"
    }
   ],
   "source": [
    "balancedSplitExists(arr2)"
   ]
  },
  {
   "cell_type": "code",
   "execution_count": 15,
   "metadata": {},
   "outputs": [
    {
     "ename": "NameError",
     "evalue": "name 'new_arr' is not defined",
     "output_type": "error",
     "traceback": [
      "\u001b[1;31m---------------------------------------------------------------------------\u001b[0m",
      "\u001b[1;31mNameError\u001b[0m                                 Traceback (most recent call last)",
      "\u001b[1;32m<ipython-input-15-f1d0ee18c61a>\u001b[0m in \u001b[0;36m<module>\u001b[1;34m\u001b[0m\n\u001b[0;32m      1\u001b[0m \u001b[1;32mfor\u001b[0m \u001b[0mi\u001b[0m \u001b[1;32min\u001b[0m \u001b[0mrange\u001b[0m\u001b[1;33m(\u001b[0m\u001b[1;36m0\u001b[0m\u001b[1;33m,\u001b[0m \u001b[0mlen\u001b[0m\u001b[1;33m(\u001b[0m\u001b[0marr\u001b[0m\u001b[1;33m)\u001b[0m\u001b[1;33m)\u001b[0m\u001b[1;33m:\u001b[0m\u001b[1;33m\u001b[0m\u001b[1;33m\u001b[0m\u001b[0m\n\u001b[1;32m----> 2\u001b[1;33m     \u001b[0mnew_arr\u001b[0m\u001b[1;33m[\u001b[0m\u001b[0mi\u001b[0m\u001b[1;33m]\u001b[0m \u001b[1;33m=\u001b[0m \u001b[0marr\u001b[0m\u001b[1;33m[\u001b[0m\u001b[0mi\u001b[0m\u001b[1;33m]\u001b[0m\u001b[1;33m\u001b[0m\u001b[1;33m\u001b[0m\u001b[0m\n\u001b[0m\u001b[0;32m      3\u001b[0m \u001b[1;33m\u001b[0m\u001b[0m\n",
      "\u001b[1;31mNameError\u001b[0m: name 'new_arr' is not defined"
     ]
    }
   ],
   "source": [
    "for i in range(0, len(arr)):\n",
    "    new_arr = arr[i]\n",
    "    "
   ]
  },
  {
   "cell_type": "code",
   "execution_count": null,
   "metadata": {},
   "outputs": [],
   "source": []
  }
 ],
 "metadata": {
  "kernelspec": {
   "display_name": "Python 3",
   "language": "python",
   "name": "python3"
  },
  "language_info": {
   "codemirror_mode": {
    "name": "ipython",
    "version": 3
   },
   "file_extension": ".py",
   "mimetype": "text/x-python",
   "name": "python",
   "nbconvert_exporter": "python",
   "pygments_lexer": "ipython3",
   "version": "3.7.5"
  }
 },
 "nbformat": 4,
 "nbformat_minor": 2
}
