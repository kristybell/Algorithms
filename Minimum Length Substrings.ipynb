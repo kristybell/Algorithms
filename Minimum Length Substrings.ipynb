{
 "cells": [
  {
   "cell_type": "markdown",
   "metadata": {},
   "source": [
    "# Minimum Length Substrings\n",
    "You are given two strings s and t. YOu can select any substring of sting s and rearrange the characters of the selected substring. Determine the minimum length of the substring of s such that string t is a substring of the selected substring.\n",
    "\n",
    "## Signature\n",
    "int minLengthSubstring(String s, String t)\n",
    "\n",
    "## Input\n",
    "s and t are non-empty strings that contain less than 1,000,000 characters each\n",
    "\n",
    "## Output\n",
    "Return the minimum length of the substring of s. If it is not possible, return -1\n",
    "\n",
    "### Example\n",
    "* s = \"dcbefebce\"\n",
    "* t = \"fd\"'\n",
    "* output = 5\n",
    "\n",
    "**Explanation:**\n",
    "Substring \"dcbef\" can be rearranged to \"cfdeb\", \"cefdb\", and so on. String t is a substring of \"cfdeb\". Thus, the minimum length required is 5."
   ]
  },
  {
   "cell_type": "code",
   "execution_count": 74,
   "metadata": {},
   "outputs": [],
   "source": [
    "def min_length_substring(s, t):\n",
    "  # Write your code here\n",
    "  # Copy arrays of string as lists\n",
    "  s_copy, t_copy = list(map(str, s)), list(map(str, t))\n",
    "  \n",
    "  # Set variables to the length of arrays\n",
    "  m , n = len(s_copy), len(t_copy)\n",
    "  \n",
    "  # Create counters\n",
    "  i = 0\n",
    "  j = 0\n",
    "  \n",
    "  # Create an empty list\n",
    "  temp = []\n",
    "  \n",
    "  # Create outer loop for s_copy\n",
    "  for x in range(0, m):\n",
    "    # Create inner loop for t_copy\n",
    "    for y in range(0, n):\n",
    "        if(t_copy[y] == s_copy[x]):\n",
    "        # Check repetition of letters\n",
    "            for char in t_copy:\n",
    "                count = t_copy.count(char)\n",
    "                if count > 1:\n",
    "                    return -1\n",
    "                else:\n",
    "                    temp.append(s_copy.index(s_copy[x]))\n",
    "                    j += 1\n",
    "    i += 1\n",
    "  return 1 + max(temp)"
   ]
  },
  {
   "cell_type": "code",
   "execution_count": 58,
   "metadata": {},
   "outputs": [],
   "source": [
    "arr1 ='bfbeadbcbcbfeaaeefcddcccbbbfaaafdbebedddf'\n",
    "arr2 = 'cbccfafebccdccebdd'"
   ]
  },
  {
   "cell_type": "code",
   "execution_count": 69,
   "metadata": {
    "scrolled": true
   },
   "outputs": [
    {
     "data": {
      "text/plain": [
       "-1"
      ]
     },
     "execution_count": 69,
     "metadata": {},
     "output_type": "execute_result"
    }
   ],
   "source": [
    "min_length_substring(arr1, arr2)"
   ]
  },
  {
   "cell_type": "code",
   "execution_count": 72,
   "metadata": {},
   "outputs": [],
   "source": [
    "arr3 = 'dcbefebce'\n",
    "arr4 = 'fd'"
   ]
  },
  {
   "cell_type": "code",
   "execution_count": 75,
   "metadata": {},
   "outputs": [
    {
     "data": {
      "text/plain": [
       "5"
      ]
     },
     "execution_count": 75,
     "metadata": {},
     "output_type": "execute_result"
    }
   ],
   "source": [
    "min_length_substring(arr3, arr4)"
   ]
  }
 ],
 "metadata": {
  "kernelspec": {
   "display_name": "Python 3",
   "language": "python",
   "name": "python3"
  },
  "language_info": {
   "codemirror_mode": {
    "name": "ipython",
    "version": 3
   },
   "file_extension": ".py",
   "mimetype": "text/x-python",
   "name": "python",
   "nbconvert_exporter": "python",
   "pygments_lexer": "ipython3",
   "version": "3.7.5"
  }
 },
 "nbformat": 4,
 "nbformat_minor": 2
}
