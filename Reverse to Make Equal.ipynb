{
 "cells": [
  {
   "cell_type": "markdown",
   "metadata": {},
   "source": [
    "# REVERSE TO MAKE EQUAL\n",
    "\n",
    "Given two arrays A and B of length N, determine if there is a way to make A equal to B by reversing any subarrays from array B any number of times.\n",
    "\n",
    "## Signature\n",
    "bool areTheyEqual(int[] arr_a, int[] arr_b)\n",
    "\n",
    "## Input\n",
    "All integers in array are in the range [0, 1,000,000,000].\n",
    "\n",
    "## Output\n",
    "Return true if B can be made equal to A, return false otherwise.\n",
    "\n",
    "## Example\n",
    "A = [1, 2, 3, 4]\n",
    "B = [1,4,3,2]\n",
    "output = true\n",
    "\n",
    "After reversing the subarray of B from indices 1 to 3, array B will equal array A."
   ]
  },
  {
   "cell_type": "code",
   "execution_count": 37,
   "metadata": {},
   "outputs": [],
   "source": [
    "def are_they_equal(array_a, array_b):\n",
    "  # Write your code here\n",
    "  # Define the length of the two input arrays\n",
    "  a = len(array_a)\n",
    "  b = len(array_b)\n",
    "  \n",
    "  # Sort list\n",
    "  array_a = sorted(array_a)\n",
    "  array_b = sorted(array_b)\n",
    "  print(array_a)\n",
    "  print(array_b)\n",
    "  \n",
    "  # Create two counters\n",
    "  i = 0\n",
    "  j = 0\n",
    "  \n",
    "  # Traverse through both arrays simulatenously\n",
    "  # Condition 1\n",
    "  while(i < a and j < b):\n",
    "    # Condition 1a: if the integers match, increment both of the counters\n",
    "    if(array_a[i] == array_b[j]):\n",
    "      i += 1\n",
    "      j += 1\n",
    "      \n",
    "      # Condition 1aa: \n",
    "      if(i == a and j == b):\n",
    "        return True\n",
    "  \n",
    "    else:\n",
    "      return False"
   ]
  },
  {
   "cell_type": "code",
   "execution_count": 38,
   "metadata": {},
   "outputs": [],
   "source": [
    "arr_a = [1, 2, 3, 4]\n",
    "arr_b = [1, 4, 3, 2]\n",
    "arr_c = [1, 2, 3, 5]"
   ]
  },
  {
   "cell_type": "code",
   "execution_count": 39,
   "metadata": {},
   "outputs": [
    {
     "name": "stdout",
     "output_type": "stream",
     "text": [
      "[1, 2, 3, 4]\n",
      "[1, 2, 3, 4]\n"
     ]
    },
    {
     "data": {
      "text/plain": [
       "True"
      ]
     },
     "execution_count": 39,
     "metadata": {},
     "output_type": "execute_result"
    }
   ],
   "source": [
    "are_they_equal(arr_a, arr_b)"
   ]
  },
  {
   "cell_type": "code",
   "execution_count": 40,
   "metadata": {},
   "outputs": [
    {
     "name": "stdout",
     "output_type": "stream",
     "text": [
      "[1, 2, 3, 4]\n",
      "[1, 2, 3, 5]\n"
     ]
    },
    {
     "data": {
      "text/plain": [
       "False"
      ]
     },
     "execution_count": 40,
     "metadata": {},
     "output_type": "execute_result"
    }
   ],
   "source": [
    "are_they_equal(arr_a, arr_c)"
   ]
  },
  {
   "cell_type": "code",
   "execution_count": 1,
   "metadata": {},
   "outputs": [],
   "source": [
    "apple = {'a': 231, 'b': 293, 'c': 9334}"
   ]
  },
  {
   "cell_type": "code",
   "execution_count": null,
   "metadata": {},
   "outputs": [],
   "source": [
    "hash(apple)"
   ]
  }
 ],
 "metadata": {
  "kernelspec": {
   "display_name": "Python 3",
   "language": "python",
   "name": "python3"
  },
  "language_info": {
   "codemirror_mode": {
    "name": "ipython",
    "version": 3
   },
   "file_extension": ".py",
   "mimetype": "text/x-python",
   "name": "python",
   "nbconvert_exporter": "python",
   "pygments_lexer": "ipython3",
   "version": "3.7.5"
  }
 },
 "nbformat": 4,
 "nbformat_minor": 2
}
