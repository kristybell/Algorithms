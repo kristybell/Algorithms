{
 "cells": [
  {
   "cell_type": "markdown",
   "metadata": {},
   "source": [
    "# Slow Sums\n",
    "Suppose we have a list of **N** numbers, and repeat the following operation until we are left with only a single number: Choose any two numbers and replace them with their sum. Moreover, we associate a penalty with each operation equal to the value of the new number, and call the penalty for the entire list as the sum of the penalties of each operation.\n",
    "\n",
    "For example, given the list **[1, 2, 3, 4, 5]**, we could choose **2 and 3** for the first operation, which would transform the list into **[1, 5, 4, 5]** and incur a penalty of **5**. The goal in this problem is to find the worst possible penalty for a given input.\n",
    "\n",
    "## Signature\n",
    "int getTotalTime(int[] arr)\n",
    "\n",
    "## Input:\n",
    "An array **arr** containing **N** integers, denoting the numbers in the list.\n",
    "\n",
    "## Output Format:\n",
    "An int representing the worst possible total penalty.\n",
    "\n",
    "## Constraints:\n",
    "* 1 ≤ **N** ≤ 10^6\n",
    "* 1 ≤ **Ai** ≤ 10^7, where *Ai* denotes the ith initial element of an array.\n",
    "The sum of values of **N** over all test cases will not exceed 5 * 10^6.\n",
    "\n",
    "### Example\n",
    "* arr = [4, 2, 1, 3]\n",
    "* output = 26\n",
    "\n",
    "\n",
    " First, add **4 + 3** for a penalty of **7**. Now the array is [7, 2, 1]. \n",
    " \n",
    " Add **7 + 2** for a penalty of **9**. Now the array is [9, 1].\n",
    " \n",
    " Add **9 + 1** for a penalty of **10**. The penalties sum to **26**."
   ]
  },
  {
   "cell_type": "code",
   "execution_count": 33,
   "metadata": {},
   "outputs": [],
   "source": [
    "def getTotalTime(arr):\n",
    "  # Determine the length of the input array\n",
    "  n = len(arr)\n",
    "  \n",
    "  # Create a sorted copy of the array\n",
    "  arr_copy = sorted(arr)\n",
    "  \n",
    "  # Create an empty list\n",
    "  temp = []\n",
    "  \n",
    "  # Create a counter starting at n\n",
    "  i = n\n",
    "  \n",
    "  for x in range(0, n-1):\n",
    "    m = len(arr_copy)                                # Create a variable for the max integer\n",
    "    num1, num2 = arr_copy[-1], arr_copy[m-2]         # Pull the last two integers of the copied sorted array\n",
    "    arr_copy.pop(arr_copy.index(num1))               # Remove the last integer\n",
    "    arr_copy.pop(arr_copy.index(num2))               # Remove the second to last integer \n",
    "    arr_copy.append(num1 + num2)                     # Add the sum of the last two integers back into the copied array\n",
    "    temp.append(num1 + num2)\n",
    "  i -= 1                                             # Counter reduction\n",
    "  return sum(temp)"
   ]
  },
  {
   "cell_type": "code",
   "execution_count": 34,
   "metadata": {},
   "outputs": [
    {
     "data": {
      "text/plain": [
       "([4, 2, 1, 3], [2, 3, 9, 8, 4])"
      ]
     },
     "execution_count": 34,
     "metadata": {},
     "output_type": "execute_result"
    }
   ],
   "source": [
    "arr1, arr2 = [4, 2, 1, 3], [2, 3, 9, 8, 4]\n",
    "arr1, arr2"
   ]
  },
  {
   "cell_type": "code",
   "execution_count": 35,
   "metadata": {},
   "outputs": [
    {
     "data": {
      "text/plain": [
       "26"
      ]
     },
     "execution_count": 35,
     "metadata": {},
     "output_type": "execute_result"
    }
   ],
   "source": [
    "getTotalTime(arr1)"
   ]
  },
  {
   "cell_type": "code",
   "execution_count": 36,
   "metadata": {},
   "outputs": [
    {
     "data": {
      "text/plain": [
       "88"
      ]
     },
     "execution_count": 36,
     "metadata": {},
     "output_type": "execute_result"
    }
   ],
   "source": [
    "getTotalTime(arr2)"
   ]
  }
 ],
 "metadata": {
  "kernelspec": {
   "display_name": "Python 3",
   "language": "python",
   "name": "python3"
  },
  "language_info": {
   "codemirror_mode": {
    "name": "ipython",
    "version": 3
   },
   "file_extension": ".py",
   "mimetype": "text/x-python",
   "name": "python",
   "nbconvert_exporter": "python",
   "pygments_lexer": "ipython3",
   "version": "3.7.5"
  }
 },
 "nbformat": 4,
 "nbformat_minor": 2
}
