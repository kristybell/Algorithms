{
 "cells": [
  {
   "cell_type": "markdown",
   "metadata": {},
   "source": [
    "# Node Creation"
   ]
  },
  {
   "cell_type": "code",
   "execution_count": 1,
   "metadata": {},
   "outputs": [],
   "source": [
    "class Node:\n",
    "  def __init__(self, x):\n",
    "    self.data = x\n",
    "    self.next = None"
   ]
  },
  {
   "cell_type": "markdown",
   "metadata": {},
   "source": [
    "# Linked List Creation\n"
   ]
  },
  {
   "cell_type": "code",
   "execution_count": null,
   "metadata": {},
   "outputs": [],
   "source": [
    "class LinkedList:\n",
    "  def __init__(self):\n",
    "    # Placeholder (not accessible) to allow to point from the 1st element in the linked list\n",
    "    self.head = node()     \n",
    "  \n",
    "  # Function to add a new data point to the linked list\n",
    "  def append(self, data):\n",
    "    # Create a new node and pass the data through it\n",
    "    new_node = node(data)\n",
    "    # Create a variable to store the data current looking at starting with the head\n",
    "    cur = self.head\n",
    "    # reiterate over each node of the list starting with head\n",
    "    while(cur.next != None):\n",
    "      # traverse through the list\n",
    "      cur = cur.next\n",
    "    # Condition when at the last node of the list\n",
    "    cur.next = new_node\n",
    "  \n",
    "  # Function to determine the length of the linked list\n",
    "  def length(self):\n",
    "    # Pointer to point to current node\n",
    "    cr = self.head\n",
    "    # Total nodes seen\n",
    "    total = 0\n",
    "    while(cur.next != None):\n",
    "      total += 1\n",
    "      cur = cur.next\n",
    "    # Return the count of the linked list\n",
    "    return total  \n",
    "  \n",
    "  # Function to display the current contents of the linked list; don't pass any parameters (self)\n",
    "  def display(self):\n",
    "    elems = []\n",
    "    cur_node = self.head\n",
    "    # traverse over nodes\n",
    "    while(cur_node.next != None):\n",
    "      # Set current node equal to the next node\n",
    "      cur_node = cur_node.next\n",
    "      elems.append(cur_node.data)\n",
    "    print elems\n",
    "    \n",
    "    def get(self, index):\n",
    "      if(index >= self.length()):\n",
    "        print('Error: Get Index out of range!')\n",
    "        return None\n",
    "      cur_idx = 0\n",
    "      cur_node = self.head\n",
    "      while(True):\n",
    "        cur_node = cur_node.next\n",
    "        if(cur_idx == index):\n",
    "          return cur_node.data\n",
    "        cur_idx += 1\n",
    "   \n",
    "    def erase(self, index):\n",
    "      if(index >=self.length()):\n",
    "        print('Error: Erase Index out of range!')\n",
    "        return\n",
    "      cur_idx = 0\n",
    "      cur_node = self.head\n",
    "      while(True):\n",
    "        last_node = cur_node\n",
    "        cur_node = cur_node.nexy\n",
    "        if(cur_idx == index):\n",
    "          last_node.next = cur_node.next\n",
    "          return\n",
    "        cur_idx += 1"
   ]
  }
 ],
 "metadata": {
  "kernelspec": {
   "display_name": "Python 3",
   "language": "python",
   "name": "python3"
  },
  "language_info": {
   "codemirror_mode": {
    "name": "ipython",
    "version": 3
   },
   "file_extension": ".py",
   "mimetype": "text/x-python",
   "name": "python",
   "nbconvert_exporter": "python",
   "pygments_lexer": "ipython3",
   "version": "3.7.5"
  }
 },
 "nbformat": 4,
 "nbformat_minor": 2
}
