{
 "cells": [
  {
   "cell_type": "markdown",
   "metadata": {},
   "source": [
    "# Passing Yearbooks\n",
    "There are n students, numbered from 1 to n, each with their own yearbook. They would like to pass their yearbooks around and get them signed by other students.\n",
    "\n",
    "You're given a list of n integers arr[1..n], which is guaranteed to be a permutation of 1..n (in other words, it includes the integers from 1 to n exactly once each, in some order). The meaning of this list is described below.\n",
    "Initially, each student is holding their own yearbook. The students will then repeat the following two steps each minute: Each student i will first sign the yearbook that they're currently holding (which may either belong to themselves or to another student), and then they'll pass it to student arr[i]. It's possible that arr[i] = i for any given i, in which case student i will pass their yearbook back to themselves. Once a student has received their own yearbook back, they will hold on to it and no longer participate in the passing process.\n",
    "\n",
    "It's guaranteed that, for any possible valid input, each student will eventually receive their own yearbook back and will never end up holding more than one yearbook at a time.\n",
    "\n",
    "You must compute a list of n integers output, whose ith element is equal to the number of signatures that will be present in student i's yearbook once they receive it back.\n",
    "\n",
    "## Signature\n",
    "int[] findSignatureCounts(int[] arr)\n",
    "\n",
    "## Input\n",
    "n is in the range [1, 100,000].\n",
    "Each value arr[i] is in the range [1, n], and all values in arr[i] are distinct.\n",
    "\n",
    "## Output\n",
    "Return a list of n integers output, as described above.\n",
    "\n",
    "### Example 1\n",
    "* n = 2\n",
    "* arr = [2, 1]\n",
    "* output = [2, 2]\n",
    "\n",
    "The first student will sign their own yearbook and pass it to the second, who will also sign it and pass it back to the first student, resulting in 2 signatures. Meanwhile, the second student's yearbook will similarly be signed both by themselves and then by the first student.\n",
    "\n",
    "### Example 2\n",
    "* n = 2\n",
    "* arr = [1, 2]\n",
    "* output = [1, 1]\n",
    "\n",
    "Each student will simply pass their yearbook back to themselves, resulting in 1 signature each."
   ]
  },
  {
   "cell_type": "code",
   "execution_count": 13,
   "metadata": {},
   "outputs": [],
   "source": [
    "def findSignatureCounts(arr):\n",
    "  # Write your code here\n",
    "  # Determine the length of the array\n",
    "  n = len(arr)\n",
    "  \n",
    "  # Create a sorted copy of the array\n",
    "  arr_copy = sorted(arr)\n",
    "  \n",
    "  # Create an empty list\n",
    "  temp = []\n",
    "  \n",
    "  # Create a counter\n",
    "  i = 0\n",
    "  \n",
    "  while(i < n):\n",
    "    # Condition if the integers of the same indicies in the two arrays match    \n",
    "    if(arr_copy[i] == arr[i]):\n",
    "      for count in range(1, n+1):\n",
    "        temp.append(1)\n",
    "        i += 1\n",
    "    \n",
    "    # Condition if the integers don't match\n",
    "    else:\n",
    "      temp = [1 * n] * n               # Returns an array of n length with the integer n\n",
    "      i = n                            # Stop the while loop and return output\n",
    "  return temp"
   ]
  },
  {
   "cell_type": "code",
   "execution_count": 14,
   "metadata": {},
   "outputs": [],
   "source": [
    "arr1 = [2, 1]\n",
    "arr2 = [1, 2]"
   ]
  },
  {
   "cell_type": "code",
   "execution_count": 15,
   "metadata": {},
   "outputs": [
    {
     "data": {
      "text/plain": [
       "[2, 2]"
      ]
     },
     "execution_count": 15,
     "metadata": {},
     "output_type": "execute_result"
    }
   ],
   "source": [
    "findSignatureCounts(arr1)"
   ]
  },
  {
   "cell_type": "code",
   "execution_count": 16,
   "metadata": {},
   "outputs": [
    {
     "data": {
      "text/plain": [
       "[1, 1]"
      ]
     },
     "execution_count": 16,
     "metadata": {},
     "output_type": "execute_result"
    }
   ],
   "source": [
    "findSignatureCounts(arr2)"
   ]
  },
  {
   "cell_type": "code",
   "execution_count": null,
   "metadata": {},
   "outputs": [],
   "source": []
  }
 ],
 "metadata": {
  "kernelspec": {
   "display_name": "Python 3",
   "language": "python",
   "name": "python3"
  },
  "language_info": {
   "codemirror_mode": {
    "name": "ipython",
    "version": 3
   },
   "file_extension": ".py",
   "mimetype": "text/x-python",
   "name": "python",
   "nbconvert_exporter": "python",
   "pygments_lexer": "ipython3",
   "version": "3.7.5"
  }
 },
 "nbformat": 4,
 "nbformat_minor": 2
}
