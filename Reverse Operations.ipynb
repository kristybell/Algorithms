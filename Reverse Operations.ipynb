{
 "cells": [
  {
   "cell_type": "markdown",
   "metadata": {},
   "source": [
    "# Reverse Operations\n",
    "You are given a singly-linked list that contains **N** integers. A *subpart* of the list is a contiguous set of even elements, bordered either by the end of the list or an odd element. For example, if the list is [1, 2, 8, 9, 12, 16], the *subparts* of the list are [2, 8] and [12, 16].\n",
    "\n",
    "Then, for each subpart, the order of the elements is reversed. In the example, this would result in the new list, [1,8, 2, 9, 16, 12].\n",
    "\n",
    "The goal of this question is: given a resulting list, determine the original order of the elements.\n",
    "\n",
    "## Implementation Detail\n",
    "You must use the following definition for elements in the linked list:\n",
    "class Node{\n",
    "    int data;\n",
    "    Node next;\n",
    "}\n",
    "\n",
    "## Signature\n",
    "Node reverse(Node head)\n",
    "\n",
    "## Constraints\n",
    "1 <= **N** <= 1000, where **N** is the size of the list\n",
    "1 <= **L**i <= 10^9, where **Li** is the ith element of the list\n",
    "\n",
    "### Example\n",
    "Input:\n",
    "* N = 6\n",
    "* list = [1,2,8,9,12,16]\n",
    "\n",
    "Output:\n",
    "* [1, 8, 2, 9, 16, 12]\n"
   ]
  },
  {
   "cell_type": "code",
   "execution_count": 1,
   "metadata": {},
   "outputs": [
    {
     "data": {
      "text/plain": [
       "[1, 2, 3, 4, 5]"
      ]
     },
     "execution_count": 1,
     "metadata": {},
     "output_type": "execute_result"
    }
   ],
   "source": [
    "arr = [1, 2, 3, 4, 5]\n",
    "arr"
   ]
  },
  {
   "cell_type": "code",
   "execution_count": 2,
   "metadata": {},
   "outputs": [
    {
     "ename": "TypeError",
     "evalue": "pop() takes at most 1 argument (2 given)",
     "output_type": "error",
     "traceback": [
      "\u001b[1;31m---------------------------------------------------------------------------\u001b[0m",
      "\u001b[1;31mTypeError\u001b[0m                                 Traceback (most recent call last)",
      "\u001b[1;32m<ipython-input-2-db6f5fab74b8>\u001b[0m in \u001b[0;36m<module>\u001b[1;34m\u001b[0m\n\u001b[1;32m----> 1\u001b[1;33m \u001b[0marr\u001b[0m\u001b[1;33m.\u001b[0m\u001b[0mpop\u001b[0m\u001b[1;33m(\u001b[0m\u001b[1;36m0\u001b[0m\u001b[1;33m,\u001b[0m\u001b[1;36m1\u001b[0m\u001b[1;33m)\u001b[0m\u001b[1;33m\u001b[0m\u001b[1;33m\u001b[0m\u001b[0m\n\u001b[0m",
      "\u001b[1;31mTypeError\u001b[0m: pop() takes at most 1 argument (2 given)"
     ]
    }
   ],
   "source": [
    "arr.pop(0,1)"
   ]
  },
  {
   "cell_type": "code",
   "execution_count": null,
   "metadata": {},
   "outputs": [],
   "source": [
    "# Node of a linked list  \n",
    "class Node:  \n",
    "    def __init__(self, next = None, data = None):  \n",
    "        self.next = next\n",
    "        self.data = data  \n",
    "  \n",
    "# Function to create a new node \n",
    "def newNode( d): \n",
    "  \n",
    "    newnode = Node() \n",
    "    newnode.data = d \n",
    "    newnode.next = None\n",
    "    return newnode \n",
    "  \n",
    "# Recursive function to reverse the consecutive \n",
    "# even nodes of the linked list \n",
    "def reverse(head, prev): \n",
    "  \n",
    "    # Base case \n",
    "    if (head == None): \n",
    "        return Non\n",
    "  \n",
    "    temp = None\n",
    "    curr = None\n",
    "    curr = head \n",
    "  \n",
    "    # Reversing nodes until curr node's value \n",
    "    # turn odd or Linked list is fully traversed \n",
    "    while (curr != None and curr.data % 2 == 0) : \n",
    "        temp = curr.next\n",
    "        curr.next = prev \n",
    "        prev = curr \n",
    "        curr = temp \n",
    "  \n",
    "    # If elements were reversed then head \n",
    "    # pointer needs to be changed \n",
    "    if (curr != head) : \n",
    "      \n",
    "        head.next = curr \n",
    "  \n",
    "        # Recur for the remaining linked list \n",
    "        curr = reverse(curr, None) \n",
    "        return prev \n",
    "      \n",
    "    # Simply iterate over the odd value nodes \n",
    "    else: \n",
    "      \n",
    "        head.next = reverse(head.next, head) \n",
    "        return head \n",
    "      \n",
    "# Utility function to print the \n",
    "# contents of the linked list \n",
    "def printLinkedList(head): \n",
    "  \n",
    "    while (head != None): \n",
    "      \n",
    "        print(head.data ,end= \" \") \n",
    "        head = head.next"
   ]
  },
  {
   "cell_type": "code",
   "execution_count": null,
   "metadata": {},
   "outputs": [],
   "source": [
    " # Determine the length of linked list\n",
    "  def getCount(self): \n",
    "    temp = self.head # Initialise temp \n",
    "    n = 0 # Initialise count \n",
    "    # Loop while end of linked list is not reached \n",
    "    while (temp): \n",
    "      n += 1\n",
    "      temp = temp.next\n",
    "      return n\n",
    "  def reverse(head):\n",
    "  # Write your code here\n",
    "  # Determine length of list\n",
    "  \n",
    "  if head([n/2] % 2 != 0):\n",
    "    left_num = head[n/2 - 1]\n",
    "    right_num = head[n/2 + 2]\n",
    "    \n",
    "    # Remove left / right int from array\n",
    "    head.pop(head.index(left_num))\n",
    "    head.pop(head.index(right_num))\n",
    "    \n",
    "    # Insert the left /right int one space to left/right respectively\n",
    "    head.insert(head.index(left_num) - 1, left_num)\n",
    "    head.insert(head.inde(right_num) + 1, right_num)\n",
    "    \n",
    "  else:\n",
    "    left_num1 = x[1]\n",
    "    left_num2 = x[2]\n",
    "    last_num = x[n-1]\n",
    "    \n",
    "    head.pop(head.index(1))\n",
    "    head.pop(head.index(2))\n",
    "    head.pop(head.index(n-2))\n",
    "    \n",
    "    head.insert(0, left_num2)\n",
    "    head.insert(1, left_num1)\n",
    "    head.insert(n-2, last_num)\n",
    "  return head"
   ]
  }
 ],
 "metadata": {
  "kernelspec": {
   "display_name": "Python 3",
   "language": "python",
   "name": "python3"
  },
  "language_info": {
   "codemirror_mode": {
    "name": "ipython",
    "version": 3
   },
   "file_extension": ".py",
   "mimetype": "text/x-python",
   "name": "python",
   "nbconvert_exporter": "python",
   "pygments_lexer": "ipython3",
   "version": "3.7.5"
  }
 },
 "nbformat": 4,
 "nbformat_minor": 2
}
