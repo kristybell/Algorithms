{
 "cells": [
  {
   "cell_type": "markdown",
   "metadata": {},
   "source": [
    "# Contiguous Subarrays\n",
    "\n",
    "You are given an array a of N integers. For each index i, you are required to determine the number of contiguous subarrays that fulfills the following conditions:\n",
    "\n",
    "The value at index i must be the maximum element in the contiguous subarrays, and\n",
    "These contiguous subarrays must either start from or end on index i.\n",
    "\n",
    "## Signature\n",
    "int[] countSubarrays(int[] arr)\n",
    "\n",
    "## Input\n",
    "* Array a is a non-empty list of unique integers that range between 1 to 1,000,000,000\n",
    "* Size N is between 1 and 1,000,000\n",
    "\n",
    "## Output\n",
    "An array where each index i contains an integer denoting the maximum number of contiguous subarrays of a[i]\n",
    "\n",
    "### Example\n",
    "**a** = [3, 4, 1, 6, 2]\n",
    "**output** = [1, 3, 1, 5, 1]\n",
    "\n",
    "Explanation:\n",
    "* For index 0 - [3] is the only contiguous subarray that starts (or ends) with 3, and the maximum value in this subarray is 3.\n",
    "* For index 1 - [4], [3, 4], [4, 1]\n",
    "* For index 2 -[1]\n",
    "* For index 3 - [6], [6, 2], [1, 6], [4, 1, 6], [3, 4, 1, 6]\n",
    "* For index 4 - [2]\n",
    "\n",
    "So, the answer for the above input is [1, 3, 1, 5, 1]"
   ]
  },
  {
   "cell_type": "markdown",
   "metadata": {},
   "source": [
    "### BRUTE FORCE SOLUTION - O(N^2)"
   ]
  },
  {
   "cell_type": "code",
   "execution_count": 5,
   "metadata": {},
   "outputs": [],
   "source": [
    "def count_subarrays_brute(arr):\n",
    "    # Determine the length of array\n",
    "    n = len(arr)\n",
    "#     print('n=', n)\n",
    "    \n",
    "    # Create a counter set\n",
    "    result = [1] * n\n",
    "#     print('result=', result)\n",
    "#     print('-----------')\n",
    "    \n",
    "    # Reiterate over array\n",
    "    for i, x in enumerate(arr):\n",
    "#         print('i=', i)\n",
    "#         print('x=', x)\n",
    "        for di in [1, -1]:\n",
    "#             print('di=', di)\n",
    "            step = 1\n",
    "#             print('step=', step)\n",
    "#             print('-------')\n",
    "            while((0 <= i + di*step < n) and (arr[i + di*step] < x)):\n",
    "                result[i] += 1\n",
    "                step += 1\n",
    "#                 print('result:', result)\n",
    "#                 print('============')\n",
    "                \n",
    "    return result"
   ]
  },
  {
   "cell_type": "markdown",
   "metadata": {},
   "source": [
    "### STACK SOLUTION - O(N)"
   ]
  },
  {
   "cell_type": "code",
   "execution_count": 6,
   "metadata": {},
   "outputs": [],
   "source": [
    "def count_subarrays_stack(arr): \n",
    "    \"\"\"\n",
    "    O(N):\n",
    "    this solution uses Stacks. Every index starts with n possibilities.\n",
    "    Using stack, going from left to right, we remove the subarrays that\n",
    "    doesn't satisify the problem condition at this line:\n",
    "    'result[st.pop()] -= n-i'\n",
    "    Then we do it again from right to left.\n",
    "    \"\"\"\n",
    "    \n",
    "    # Determine the length of the array\n",
    "    n = len(arr)\n",
    "    \n",
    "    # Create a set of length n filled with the integer n\n",
    "    result = [n] * n\n",
    "    \n",
    "    # Create an empty set list\n",
    "    st = []\n",
    "    \n",
    "    # Reiterate the loop over the array\n",
    "    for i, x in enumerate(arr):\n",
    "        # Create a condition in which the index is not the last\n",
    "        while st and x >= arr[st[-1]]:\n",
    "            result[st.pop()] -= n-i            # pop() -> clears and returns the last value from the list\n",
    "        st.append(i)\n",
    "    st.clear()\n",
    "    \n",
    "    for i, x in reversed(list(enumerate(arr))):\n",
    "        while st and x >= arr[st[-1]]:\n",
    "            result[st.pop()] -= i+1\n",
    "        st.append(i)\n",
    "        \n",
    "    return result"
   ]
  },
  {
   "cell_type": "code",
   "execution_count": 7,
   "metadata": {},
   "outputs": [
    {
     "data": {
      "text/plain": [
       "[3, 4, 1, 6, 2]"
      ]
     },
     "execution_count": 7,
     "metadata": {},
     "output_type": "execute_result"
    }
   ],
   "source": [
    "a = [3, 4, 1, 6, 2]\n",
    "a"
   ]
  },
  {
   "cell_type": "code",
   "execution_count": 9,
   "metadata": {},
   "outputs": [
    {
     "name": "stdout",
     "output_type": "stream",
     "text": [
      "Wall time: 0 ns\n"
     ]
    },
    {
     "data": {
      "text/plain": [
       "[1, 3, 1, 5, 1]"
      ]
     },
     "execution_count": 9,
     "metadata": {},
     "output_type": "execute_result"
    }
   ],
   "source": [
    "count_subarrays_brute(a)"
   ]
  },
  {
   "cell_type": "code",
   "execution_count": 10,
   "metadata": {},
   "outputs": [
    {
     "name": "stdout",
     "output_type": "stream",
     "text": [
      "Wall time: 0 ns\n"
     ]
    },
    {
     "data": {
      "text/plain": [
       "[1, 3, 1, 5, 1]"
      ]
     },
     "execution_count": 10,
     "metadata": {},
     "output_type": "execute_result"
    }
   ],
   "source": [
    "count_subarrays_stack(a)"
   ]
  }
 ],
 "metadata": {
  "kernelspec": {
   "display_name": "Python 3",
   "language": "python",
   "name": "python3"
  },
  "language_info": {
   "codemirror_mode": {
    "name": "ipython",
    "version": 3
   },
   "file_extension": ".py",
   "mimetype": "text/x-python",
   "name": "python",
   "nbconvert_exporter": "python",
   "pygments_lexer": "ipython3",
   "version": "3.7.5"
  }
 },
 "nbformat": 4,
 "nbformat_minor": 2
}
