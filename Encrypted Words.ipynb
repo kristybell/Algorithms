{
 "cells": [
  {
   "cell_type": "markdown",
   "metadata": {},
   "source": [
    "# Encrypted Words\n",
    "You've devised a simple encryption method for alphabetic strings that shuffles the characters in such a way that the resulting string is hard to quickly read, but is easy to convert back into the original string.\n",
    "\n",
    "When you encrypt a string S, you start with an initially-empty resulting string **R** and append characters to it as follows:\n",
    "* Append the middle character of **S** (if **S** has even length, then we define the middle character as the left-most of the two central characters).\n",
    "* Append the encrypted version of the substring of **S** that's to the left of the middle character (if non-empty)\n",
    "* Append the encrypted version of the substring of **S** that's to the right of the middle character (if non-empty)\n",
    "\n",
    "For example, to encrypt the string \"abc\", we first take \"b\", and then append the encrypted version of \"a\" (which is just \"a\") and the encrypted version of \"c\" (which is just \"c\" to get \"bac\".\n",
    "\n",
    "If we encrypt \"abcxcba\" we'll get \"xbacbca\". That is, we take \"x\" and then append the encrypted version \"abc\" and then append the encrypted version of \"cba\" \n",
    "\n",
    "## Input\n",
    "**S** contains only lower-case alphabetic characters\n",
    "1 <= |**S**| <= 10,000\n",
    "\n",
    "## Output\n",
    "Return string **R**, the encrypted version of **S**.\n",
    "\n",
    "### Example 1\n",
    "* S = \"abc\"\n",
    "* R = \"bac\"\n",
    "\n",
    "### Example 2\n",
    "* S = \"abcd\"\n",
    "* R \"bacd\"\n",
    "\n",
    "### Example 3\n",
    "* S = \"abcxcba\"\n",
    "* R = \"xbacbca\"\n",
    "\n",
    "### Example 4\n",
    "* S = \"facebook\"\n",
    "* R = \"eafcobok\""
   ]
  },
  {
   "cell_type": "code",
   "execution_count": 17,
   "metadata": {},
   "outputs": [],
   "source": [
    "s = 'abcd'"
   ]
  },
  {
   "cell_type": "code",
   "execution_count": 18,
   "metadata": {},
   "outputs": [
    {
     "data": {
      "text/plain": [
       "'a'"
      ]
     },
     "execution_count": 18,
     "metadata": {},
     "output_type": "execute_result"
    }
   ],
   "source": [
    "s[0]"
   ]
  },
  {
   "cell_type": "code",
   "execution_count": 13,
   "metadata": {},
   "outputs": [
    {
     "data": {
      "text/plain": [
       "4"
      ]
     },
     "execution_count": 13,
     "metadata": {},
     "output_type": "execute_result"
    }
   ],
   "source": [
    "n = len(s)\n",
    "n"
   ]
  },
  {
   "cell_type": "code",
   "execution_count": 14,
   "metadata": {},
   "outputs": [],
   "source": [
    "temp = []"
   ]
  },
  {
   "cell_type": "code",
   "execution_count": 15,
   "metadata": {},
   "outputs": [],
   "source": [
    "for x in range(0, n):\n",
    "    char = s[x]\n",
    "    temp.append(char)"
   ]
  },
  {
   "cell_type": "code",
   "execution_count": 16,
   "metadata": {},
   "outputs": [
    {
     "data": {
      "text/plain": [
       "['a', 'b', 'c', 'd']"
      ]
     },
     "execution_count": 16,
     "metadata": {},
     "output_type": "execute_result"
    }
   ],
   "source": [
    "temp"
   ]
  },
  {
   "cell_type": "code",
   "execution_count": 21,
   "metadata": {},
   "outputs": [
    {
     "data": {
      "text/plain": [
       "''"
      ]
     },
     "execution_count": 21,
     "metadata": {},
     "output_type": "execute_result"
    }
   ],
   "source": [
    "tem = ''\n",
    "tem"
   ]
  },
  {
   "cell_type": "code",
   "execution_count": 24,
   "metadata": {},
   "outputs": [],
   "source": [
    "string = ''"
   ]
  },
  {
   "cell_type": "code",
   "execution_count": 25,
   "metadata": {
    "scrolled": true
   },
   "outputs": [],
   "source": [
    "for ele in temp:\n",
    "    string += ele"
   ]
  },
  {
   "cell_type": "code",
   "execution_count": 26,
   "metadata": {},
   "outputs": [
    {
     "data": {
      "text/plain": [
       "'abcd'"
      ]
     },
     "execution_count": 26,
     "metadata": {},
     "output_type": "execute_result"
    }
   ],
   "source": [
    "string"
   ]
  },
  {
   "cell_type": "code",
   "execution_count": 29,
   "metadata": {},
   "outputs": [
    {
     "data": {
      "text/plain": [
       "[1, 2]"
      ]
     },
     "execution_count": 29,
     "metadata": {},
     "output_type": "execute_result"
    }
   ],
   "source": [
    "temp2 = [1, 2]\n",
    "temp2"
   ]
  },
  {
   "cell_type": "code",
   "execution_count": 31,
   "metadata": {},
   "outputs": [],
   "source": [
    "output = []"
   ]
  },
  {
   "cell_type": "code",
   "execution_count": 32,
   "metadata": {},
   "outputs": [
    {
     "data": {
      "text/plain": [
       "[[1, 2]]"
      ]
     },
     "execution_count": 32,
     "metadata": {},
     "output_type": "execute_result"
    }
   ],
   "source": [
    "output.append(temp2)\n",
    "output"
   ]
  },
  {
   "cell_type": "code",
   "execution_count": 33,
   "metadata": {},
   "outputs": [
    {
     "data": {
      "text/plain": [
       "3"
      ]
     },
     "execution_count": 33,
     "metadata": {},
     "output_type": "execute_result"
    }
   ],
   "source": [
    "7 // 2"
   ]
  },
  {
   "cell_type": "code",
   "execution_count": 45,
   "metadata": {},
   "outputs": [],
   "source": [
    "arr = ['a', 'b', 'c']"
   ]
  },
  {
   "cell_type": "code",
   "execution_count": 46,
   "metadata": {},
   "outputs": [],
   "source": [
    "sub = arr[0:arr.index('b')]"
   ]
  },
  {
   "cell_type": "code",
   "execution_count": 47,
   "metadata": {},
   "outputs": [
    {
     "data": {
      "text/plain": [
       "['a']"
      ]
     },
     "execution_count": 47,
     "metadata": {},
     "output_type": "execute_result"
    }
   ],
   "source": [
    "sub"
   ]
  },
  {
   "cell_type": "code",
   "execution_count": 38,
   "metadata": {},
   "outputs": [],
   "source": [
    "size = len(arr)"
   ]
  },
  {
   "cell_type": "code",
   "execution_count": 40,
   "metadata": {},
   "outputs": [
    {
     "data": {
      "text/plain": [
       "'b'"
      ]
     },
     "execution_count": 40,
     "metadata": {},
     "output_type": "execute_result"
    }
   ],
   "source": [
    "mid_char = arr[size // 2]\n",
    "mid_char"
   ]
  },
  {
   "cell_type": "code",
   "execution_count": 44,
   "metadata": {},
   "outputs": [
    {
     "data": {
      "text/plain": [
       "['a', 'c']"
      ]
     },
     "execution_count": 44,
     "metadata": {},
     "output_type": "execute_result"
    }
   ],
   "source": [
    "arr.remove(mid_char)\n",
    "arr"
   ]
  },
  {
   "cell_type": "code",
   "execution_count": null,
   "metadata": {},
   "outputs": [],
   "source": [
    "  while(len(arr) > 0):\n",
    "    if(len(arr) % 2 == 0):\n",
    "      mid_char = arr[size//2 - 1]\n",
    "      index = arr.index(mid_char)\n",
    "      \n",
    "      left_sub = arr[0:index]\n",
    "      right_sub = arr[index - 1: len(arr)]\n",
    "      \n",
    "      output.append(mid_char)\n",
    "      print('output:', output)\n",
    "      arr.remove(mid_char)\n",
    "      print('arr:', arr)b\n",
    "  \n",
    "    else:\n",
    "      if(len(arr) == 1):\n",
    "        mid_char = arr[0]\n",
    "      else:\n",
    "        mid_char = arr[size // 2]\n",
    "        \n",
    "      index = arr.index(mid_char)\n",
    "      output.append(mid_char)\n",
    "      print('output:', output)\n",
    "      arr.remove(mid_char)\n",
    "      print('arr:', arr)\n",
    "  \n",
    "  R = listToString(output)\n",
    "  return R\n",
    "    "
   ]
  },
  {
   "cell_type": "code",
   "execution_count": null,
   "metadata": {},
   "outputs": [],
   "source": [
    "def stringToList(string):\n",
    "  # Determine the length of the array s\n",
    "  n = len(string)\n",
    "  # Create an empty set to hold string characters\n",
    "  lis = []\n",
    "  # Transform string into an index of temp\n",
    "  for x in range(0, n):\n",
    "    char = string[x]\n",
    "    lis.append(char)\n",
    "  return lis\n",
    "\n",
    "\n",
    "# Create a function to turn list into a string\n",
    "def listToString(arr):\n",
    "  # Create an empty set\n",
    "  string = \"\"\n",
    "  # Transfrom array into a string\n",
    "  for ele in arr:\n",
    "    string += ele\n",
    "  return string\n",
    "\n",
    "def findMidChar(arr):\n",
    "  if(len(arr) % 2 == 0):\n",
    "        mid_char = arr[size//2 - 1]\n",
    "  else:\n",
    "        if(len(arr) == 1):\n",
    "          mid_char = arr[0]\n",
    "        else:\n",
    "          mid_char = arr[size // 2]\n",
    "  return mid_char\n",
    "  \n",
    "\n",
    "def findEncryptedWord(s):\n",
    "  # Write your code here\n",
    "  # Determine the length of string\n",
    "  size = len(s)\n",
    "\n",
    "  # Transform string into an array\n",
    "  arr = stringToList(s)\n",
    "  print('arr:', arr)\n",
    "  \n",
    "  # Create a copy\n",
    "  arr_copy = arr\n",
    "  \n",
    "  # Create an empty set to hold output in an array form\n",
    "  output = []\n",
    "  \n",
    "  while(len(arr) < 1):\n",
    "    mid = findMidChar(arr)\n",
    "    \n",
    "    output.append(mid)\n",
    "    print('output:', output)\n",
    "      \n",
    "    index = arr.index(mid)\n",
    "      \n",
    "        left_sub = arr[0:index]\n",
    "        print('left_sub', left_sub)\n",
    "        right_sub = arr[index - 1: len(arr)]\n",
    "        print('right_sub', right_sub)\n",
    "      \n",
    "\n",
    "      else:\n",
    "        if(len(arr) == 1):\n",
    "          mid_char = arr[0]\n",
    "        else:\n",
    "          mid_char = arr[size // 2]\n",
    "      \n",
    "        output.append(mid_char)\n",
    "        print('output:', output)\n",
    "      \n",
    "        index = arr.index(mid_char)\n",
    "      \n",
    "        left_sub = arr[0:index]\n",
    "        print('left_sub', left_sub)\n",
    "        right_sub = arr[index - 1: len(arr)]\n",
    "        print('right_sub', right_sub)\n",
    "      \n",
    "\n",
    "  \n",
    "  R = listToString(output)\n",
    "  return R\n",
    "    "
   ]
  }
 ],
 "metadata": {
  "kernelspec": {
   "display_name": "Python 3",
   "language": "python",
   "name": "python3"
  },
  "language_info": {
   "codemirror_mode": {
    "name": "ipython",
    "version": 3
   },
   "file_extension": ".py",
   "mimetype": "text/x-python",
   "name": "python",
   "nbconvert_exporter": "python",
   "pygments_lexer": "ipython3",
   "version": "3.7.5"
  }
 },
 "nbformat": 4,
 "nbformat_minor": 2
}
