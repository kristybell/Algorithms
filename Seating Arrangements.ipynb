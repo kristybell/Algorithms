{
 "cells": [
  {
   "cell_type": "markdown",
   "metadata": {},
   "source": [
    "# Seating Arrangements\n",
    "There are n guests attending a dinner party, number from 1 to n. The ith guest has a height of arr[i] inches.\n",
    "\n",
    "The guests will sit down at a circular table which has n seats, numbered from 1 to n in clockwise order around the table. As the host, you will choose how to arramge the guests, one per seat. Note that there are n! possible permutations of seat arrangements.\n",
    "\n",
    "Once the guests have sat down, the awkwardness between a pair of guests sitting in adjacent seats is defined as the absolute difference between their two heights. Note that, because the table is circular, seats 1 and n are considered to be adjacent to one another, and that there are therefore n pairs of adjacent guests.\n",
    "\n",
    "The overall awkwardness of the seating arrangement is then defined as the maximum awkwardness of any pair of adjacent guests. Determine the minimum possible overall awkwardness of any seating arrangement.\n",
    "\n",
    "## Signature\n",
    "int minOverallAwkwardness(int[] arr)\n",
    "\n",
    "## Input\n",
    "* n is in the range [3, 1000]\n",
    "Each height arr[i] is in the range[1, 1000].\n",
    "\n",
    "## Output \n",
    "Return the minimum achievable overall awkwardness of any seating arrangement.\n",
    "\n",
    "### Example\n",
    "* n = 4\n",
    "* arr = [5, 10, 6, 8]\n",
    "* output = 4\n",
    "\n",
    "If the guests sit down in the permutation [3, 1, 4, 2] in clockwise order around the table (having heights [6, 5, 8, 10], in that order), then four awkwardnesses between pairs of adjacent guests will be |6 - 5| = 1, |5 - 8| = 3, |8 - 10| = 2, and |10 - 6| = 4, yielding an overall awkwardness of 4. It's impossible to achieve a smaller overall awkwardness."
   ]
  },
  {
   "cell_type": "code",
   "execution_count": 10,
   "metadata": {},
   "outputs": [],
   "source": [
    "def minOverallAwkwardness(arr):\n",
    "  # Write your code here\n",
    "  # Determine the length of the array\n",
    "  n = len(arr)\n",
    "  \n",
    "  # Create an empty list\n",
    "  temp = []\n",
    "  # Condition if the length of the array is even\n",
    "  if(n % 2 == 0):\n",
    "    # Store the minimum and maximum integer in the array into variables\n",
    "    min_int, max_int = min(arr), max(arr)\n",
    "\n",
    "    # Remove the min and max integer from the array\n",
    "    arr.pop(arr.index(min_int))\n",
    "    arr.pop(arr.index(max_int))\n",
    "    \n",
    "    # Replace the min and max integers in the second and last indices, respectively\n",
    "    arr.insert(1, min_int)\n",
    "    arr.insert(n-1, max_int)\n",
    "  \n",
    "  # Condition of the length of the array is odd\n",
    "  else:\n",
    "    # Store the maximum integer in the array into a variable\n",
    "    max_int = max(arr)\n",
    "    \n",
    "    # Remove the max integer from the array\n",
    "    arr.pop(arr.index(max_int))\n",
    "    \n",
    "    # Replace the max integers in the array to the second to last indices\n",
    "    arr.insert(n-2, max_int)\n",
    "    \n",
    "  # Set a counter\n",
    "  i = 0\n",
    "   \n",
    "  # Reiterate \n",
    "  for x in range(0, n):\n",
    "    # If the reiterable is the last indices\n",
    "    if(x == n-1):\n",
    "      # Determine the absolute difference of the last int with the first int in the array\n",
    "      num = abs(arr[x] - arr[0])\n",
    "      # Add this value in the temp list\n",
    "      temp.append(num)\n",
    "      \n",
    "    else:\n",
    "      # Determine the absolut difference of the int with the int to the right (clockwise)\n",
    "      num = abs(arr[x] - arr[x+1])\n",
    "      # Add this value in the temp list\n",
    "      temp.append(num)\n",
    "  \n",
    "  # Print the max int in the temp list\n",
    "  return max(temp)"
   ]
  },
  {
   "cell_type": "code",
   "execution_count": 12,
   "metadata": {},
   "outputs": [
    {
     "data": {
      "text/plain": [
       "([5, 10, 6, 8], [1, 2, 5, 3, 7])"
      ]
     },
     "execution_count": 12,
     "metadata": {},
     "output_type": "execute_result"
    }
   ],
   "source": [
    "arr1, arr2 = [5, 10, 6, 8], [1, 2, 5, 3, 7]\n",
    "arr1, arr2"
   ]
  },
  {
   "cell_type": "code",
   "execution_count": 13,
   "metadata": {},
   "outputs": [
    {
     "data": {
      "text/plain": [
       "4"
      ]
     },
     "execution_count": 13,
     "metadata": {},
     "output_type": "execute_result"
    }
   ],
   "source": [
    "minOverallAwkwardness(arr1)"
   ]
  },
  {
   "cell_type": "code",
   "execution_count": 14,
   "metadata": {
    "scrolled": true
   },
   "outputs": [
    {
     "data": {
      "text/plain": [
       "4"
      ]
     },
     "execution_count": 14,
     "metadata": {},
     "output_type": "execute_result"
    }
   ],
   "source": [
    "minOverallAwkwardness(arr2)"
   ]
  }
 ],
 "metadata": {
  "kernelspec": {
   "display_name": "Python 3",
   "language": "python",
   "name": "python3"
  },
  "language_info": {
   "codemirror_mode": {
    "name": "ipython",
    "version": 3
   },
   "file_extension": ".py",
   "mimetype": "text/x-python",
   "name": "python",
   "nbconvert_exporter": "python",
   "pygments_lexer": "ipython3",
   "version": "3.7.5"
  }
 },
 "nbformat": 4,
 "nbformat_minor": 2
}
