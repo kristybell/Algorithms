{
 "cells": [
  {
   "cell_type": "markdown",
   "metadata": {},
   "source": [
    "# Counting Triangles\n",
    "Given a list of **N** triangles with integer side lengths, determine how many different triangles there are. Two triangles are considered to be the same if they can both be placed on the plane such that their vertices occupy exactly the same three points\n",
    "\n",
    "## Signature\n",
    "`int countDistinctTriangles(int[][] triangles)`\n",
    "`int countDistinctTriangles(Triangle[] triangles)`\n",
    "\n",
    "## Input\n",
    "In some languages triangles is an **N**x3 array where `triangles[i]` is a length-3 array that contains the side lengths of the *i*th triangle. In other languages, `triangles` is a list of structs/objects that each represent a single triangle with side lengths `a`, `b`, and `c`.\n",
    "\n",
    "It's guaranteed that all triplets of side lengths represent real triangles.\n",
    "\n",
    "All side lengths are in the range [1, 1,000,000,000]\n",
    "1 <= **N** <= 1,000,000\n",
    "\n",
    "## Output\n",
    "Return the number of distinct triangles in the list\n",
    "\n",
    "### Example 1\n",
    "* `triangles` = [[2,2,3], [3,2,2], [2,5,6]]\n",
    "* `output` = 2\n",
    "\n",
    "The first two triangles are the same, so there are only 2 distinct triangles\n",
    "\n",
    "### Example 2\n",
    "* `triangles` = [[8, 4, 6], [100, 101, 102], [84, 93, 173]]\n",
    "* `output `= 3\n",
    "\n",
    "All of these triangles are distinct.\n",
    "\n",
    "\n",
    "### Example 3\n",
    "* `triangles` = [[5, 8, 9], [5, 9, 8], [9, 5, 8], [9, 8, 5], [8, 9, 5], [8, 5, 9]]\n",
    "* `output` = 1\n",
    "\n",
    "All of these triangles are the same."
   ]
  },
  {
   "cell_type": "code",
   "execution_count": 27,
   "metadata": {},
   "outputs": [],
   "source": [
    "def countDistinctTriangles(arr):\n",
    "  # Determine the length of the array\n",
    "  n = len(arr)\n",
    "  \n",
    "  # Create an empty list\n",
    "  temp = []\n",
    "  \n",
    "  # Reiterate through the list, sort, then compare if the sublist match\n",
    "  for i in range(0, n-1):\n",
    "    arr1 = sorted(arr[i])\n",
    "    arr2 = sorted(arr[i+1])\n",
    "    \n",
    "    if(arr1 == arr2):\n",
    "      temp.append(1)\n",
    "    else:\n",
    "      temp.append(0)\n",
    "  return n - sum(temp)"
   ]
  },
  {
   "cell_type": "code",
   "execution_count": 29,
   "metadata": {},
   "outputs": [],
   "source": [
    "ex1, ex2, ex3 = [[2,2,3], [3,2,2], [2,5,6]], [[8, 4, 6], [100, 101, 102], [84, 93, 173]], [[5, 8, 9], [5, 9, 8], [9, 5, 8], [9, 8, 5], [8, 9, 5], [8, 5, 9]]"
   ]
  },
  {
   "cell_type": "code",
   "execution_count": 30,
   "metadata": {},
   "outputs": [
    {
     "data": {
      "text/plain": [
       "(2, 3, 1)"
      ]
     },
     "execution_count": 30,
     "metadata": {},
     "output_type": "execute_result"
    }
   ],
   "source": [
    "countDistinctTriangles(ex1), countDistinctTriangles(ex2), countDistinctTriangles(ex3)"
   ]
  },
  {
   "cell_type": "code",
   "execution_count": 31,
   "metadata": {},
   "outputs": [],
   "source": [
    "arr1 = [(7, 6, 5), (5, 7, 6), (8, 2, 9), (2, 3, 4), (2, 4, 3)]\n",
    "arr2 = [(3, 4, 5), (8, 8, 9), (7, 7, 7)]"
   ]
  },
  {
   "cell_type": "code",
   "execution_count": 32,
   "metadata": {},
   "outputs": [
    {
     "data": {
      "text/plain": [
       "(3, 3)"
      ]
     },
     "execution_count": 32,
     "metadata": {},
     "output_type": "execute_result"
    }
   ],
   "source": [
    "countDistinctTriangles(arr1), countDistinctTriangles(arr2)"
   ]
  }
 ],
 "metadata": {
  "kernelspec": {
   "display_name": "Python 3",
   "language": "python",
   "name": "python3"
  },
  "language_info": {
   "codemirror_mode": {
    "name": "ipython",
    "version": 3
   },
   "file_extension": ".py",
   "mimetype": "text/x-python",
   "name": "python",
   "nbconvert_exporter": "python",
   "pygments_lexer": "ipython3",
   "version": "3.7.5"
  }
 },
 "nbformat": 4,
 "nbformat_minor": 2
}
