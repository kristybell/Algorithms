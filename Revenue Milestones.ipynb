{
 "cells": [
  {
   "cell_type": "markdown",
   "metadata": {},
   "source": [
    "# Revenue Milestones\n",
    "We keep track of the revenue Facebook makes every day, and we want to know on what days Facebook hits certain revenue milestones. Given an array of the revenue on each day, and an array of milestones Facebook wants to reach, return an array containing the days on which Facebook reached every milestone.\n",
    "\n",
    "## Signature\n",
    "int[] getMilestoneDays(int[] revenues, int[] miletsontes)\n",
    "\n",
    "## Input\n",
    "revenues is a length-N array representing how much revenue FB made on each day (from day 1 to day N). milestones is a length-K array of total revenue milestones\n",
    "\n",
    "### Example\n",
    "* revenues = [10, 20, 30, 40, 50, 60, 70, 80, 90, 100]\n",
    "* milestones = [100, 200, 500]\n",
    "* output = [4, 6, 10]\n",
    "\n",
    "### *Explanation*\n",
    "On days 4, 5, and 6, FB has total revenue of $100, $150, and $220, respectively. Day 6 is the first time FB has >= $200 of total revenue."
   ]
  },
  {
   "cell_type": "code",
   "execution_count": 1,
   "metadata": {},
   "outputs": [],
   "source": [
    "def getMilestoneDays(revenues, milestones):\n",
    "  # Write your code here\n",
    "  # Determine size of revenues and milestones arrays\n",
    "  n_rev, n_miles= len(revenues), len(milestones)\n",
    "  \n",
    "  # Create an empty list to hold cumulative revenue\n",
    "  temp = []\n",
    "  \n",
    "  for x in range(0, n_rev):\n",
    "    if(x == 0):\n",
    "      temp.append(revenues[0])\n",
    "      \n",
    "    else:\n",
    "      curr_int = temp[x-1] + revenues[x]\n",
    "      temp.append(curr_int)\n",
    "  \n",
    "  # Set a counter for milestones\n",
    "  i = 0\n",
    "  \n",
    "  # Set an empty list for output\n",
    "  output = []\n",
    "\n",
    "  while(i < n_miles):\n",
    "    # Set a counter for temp array of cumulative revenue\n",
    "    j = 0\n",
    "    while(j < len(temp)):\n",
    "      if(temp[j] < milestones[i]):\n",
    "        j += 1\n",
    "        \n",
    "      else:\n",
    "        day = temp.index(temp[j]) + 1\n",
    "        output.append(day)\n",
    "        j = len(temp)\n",
    "    i += 1\n",
    "  return output"
   ]
  },
  {
   "cell_type": "code",
   "execution_count": 2,
   "metadata": {},
   "outputs": [],
   "source": [
    "rev, mile = [10, 20, 30, 40, 50, 60, 70, 80, 90, 100], [100, 200, 500]"
   ]
  },
  {
   "cell_type": "code",
   "execution_count": 3,
   "metadata": {},
   "outputs": [],
   "source": [
    "rev1, rev2 = [100, 200, 300, 400, 500], [700, 800, 600, 400, 600, 700]\n",
    "mile1, mile2 = [300, 800, 1000, 1400], [3100, 2200, 800, 2100, 1000]"
   ]
  },
  {
   "cell_type": "code",
   "execution_count": 5,
   "metadata": {},
   "outputs": [
    {
     "data": {
      "text/plain": [
       "[4, 6, 10]"
      ]
     },
     "execution_count": 5,
     "metadata": {},
     "output_type": "execute_result"
    }
   ],
   "source": [
    "getMilestoneDays(rev, mile)"
   ]
  },
  {
   "cell_type": "code",
   "execution_count": 6,
   "metadata": {},
   "outputs": [
    {
     "data": {
      "text/plain": [
       "[2, 4, 4, 5]"
      ]
     },
     "execution_count": 6,
     "metadata": {},
     "output_type": "execute_result"
    }
   ],
   "source": [
    "getMilestoneDays(rev1, mile1)"
   ]
  },
  {
   "cell_type": "code",
   "execution_count": 7,
   "metadata": {},
   "outputs": [
    {
     "data": {
      "text/plain": [
       "[5, 4, 2, 3, 2]"
      ]
     },
     "execution_count": 7,
     "metadata": {},
     "output_type": "execute_result"
    }
   ],
   "source": [
    "getMilestoneDays(rev2, mile2)"
   ]
  },
  {
   "cell_type": "code",
   "execution_count": null,
   "metadata": {},
   "outputs": [],
   "source": [
    "def revenueMilestones(rev, miles):\n",
    "    # Determine size of revenue and milestones arrays\n",
    "    n_rev, n_miles = len(rev), len(miles)\n",
    "    \n",
    "    # Create a list to hold cumulative revenue\n",
    "    temp = [0]\n",
    "    \n",
    "    for x, num in enumerate(rev):\n",
    "        cum_rev = num + temp[x]\n",
    "        temp.append(cum_rev)\n",
    "    \n",
    "    temp.pop(0)\n",
    "        \n",
    "    # Create an empty list to store output with counter\n",
    "    output = []\n",
    "    \n",
    "    \n",
    "    # Set counter for milestones\n",
    "    i = 0\n",
    "    \n",
    "    # Reiterate over milestones array\n",
    "    while(i < n_miles):\n",
    "        j = 0\n",
    "        while(j < len(temp)):\n",
    "            if(temp[j] < miles[i]):\n",
    "                j += 1\n",
    "                \n",
    "            else:\n",
    "                day = temp.index(temp[j]) + 1\n",
    "                output.append(day)\n",
    "                j = len(temp)\n",
    "        i += 1\n",
    "    return output"
   ]
  }
 ],
 "metadata": {
  "kernelspec": {
   "display_name": "Python 3",
   "language": "python",
   "name": "python3"
  },
  "language_info": {
   "codemirror_mode": {
    "name": "ipython",
    "version": 3
   },
   "file_extension": ".py",
   "mimetype": "text/x-python",
   "name": "python",
   "nbconvert_exporter": "python",
   "pygments_lexer": "ipython3",
   "version": "3.7.5"
  }
 },
 "nbformat": 4,
 "nbformat_minor": 2
}
