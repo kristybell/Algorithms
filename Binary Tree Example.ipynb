{
 "cells": [
  {
   "cell_type": "code",
   "execution_count": 5,
   "metadata": {},
   "outputs": [],
   "source": [
    "#Given a binary tree, get the average value at each level of the tree.\n",
    "\n",
    "# Input:\n",
    "#        4\n",
    "#       /  \\\n",
    "#     7      9\n",
    "#    /\\      \\\n",
    "#  10  2       6\n",
    "#        \\\n",
    "#         6\n",
    "#       /\n",
    "#     2\n",
    "    \n",
    "#     Output:\n",
    "#         [4, 8, 6, 2]"
   ]
  },
  {
   "cell_type": "code",
   "execution_count": 6,
   "metadata": {},
   "outputs": [],
   "source": [
    "# Construct node class\n",
    "class Node(object):\n",
    "    def __init__(self, v):\n",
    "        self.val = v\n",
    "        self.left = None\n",
    "        self.right = None"
   ]
  },
  {
   "cell_type": "code",
   "execution_count": 9,
   "metadata": {},
   "outputs": [],
   "source": [
    "def _collect(node, data, dept = 0):\n",
    "    # Check if node is null\n",
    "    if not node:\n",
    "        return None\n",
    "    \n",
    "    # If there is a node\n",
    "    # Check whether the key exist in the map\n",
    "    if depth not in data:\n",
    "        data[depth] = (node.val, 1)       # Create tuple with the value of the node\n",
    "    else:\n",
    "        val, count = data[depth]          # (7,9, 1 + 1)\n",
    "        val += node.val\n",
    "        count += 1\n",
    "        data[depth] = (val, count)        # Save as a tuple\n",
    "        \n",
    "    \n",
    "    # Recursion Go to next depth to the left and right\n",
    "    _collect(node.left, data, depth + 1)\n",
    "    _collect(node.right, data, depth + 1)\n",
    "\n",
    "def avg_by_depth(node):\n",
    "    # Create an empty dictionary to pass to\n",
    "    data = {}\n",
    "    \n",
    "    _collect(node, data)\n",
    "    \n",
    "    # Initiate an array for the result at each depth\n",
    "    result = []\n",
    "    \n",
    "    i = 0\n",
    "    while i in data:\n",
    "        val, count = data[i]\n",
    "        result.append(value / count)\n",
    "        i += 1\n",
    "        \n",
    "    return result  "
   ]
  },
  {
   "cell_type": "code",
   "execution_count": 8,
   "metadata": {},
   "outputs": [],
   "source": [
    "# recursion transverse\n",
    "# data: {0: [4], 1: [7, 9], 2: [10, 2, 6], 3: [6], 4: [2]}\n",
    "# result: [4, 8, 6, 6, 2]\n",
    "\n",
    "# Linear thus time complexity O(n) and space complexity O(n)"
   ]
  },
  {
   "cell_type": "code",
   "execution_count": null,
   "metadata": {},
   "outputs": [],
   "source": [
    "# OR\n",
    "\n",
    "data2: {0: (4,1), 1:(16, 2)}"
   ]
  }
 ],
 "metadata": {
  "kernelspec": {
   "display_name": "Python 3",
   "language": "python",
   "name": "python3"
  },
  "language_info": {
   "codemirror_mode": {
    "name": "ipython",
    "version": 3
   },
   "file_extension": ".py",
   "mimetype": "text/x-python",
   "name": "python",
   "nbconvert_exporter": "python",
   "pygments_lexer": "ipython3",
   "version": "3.7.5"
  }
 },
 "nbformat": 4,
 "nbformat_minor": 2
}
