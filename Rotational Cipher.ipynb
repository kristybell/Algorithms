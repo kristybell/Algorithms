{
 "cells": [
  {
   "cell_type": "markdown",
   "metadata": {},
   "source": [
    "# Rotational Cipher\n",
    "\n",
    "One simple way to encrypt a string is to \"rotate\" every alphanumeric character by a certain amount. Rotating a character means replacing it with another character that is a certain number of steps away in normal alphabetic or numerical order.\n",
    "\n",
    "For example, if the string \"Zebra-493?\" is rotated 3 places, the resulting string is \"Cheud-726?\". Every alphabetic character is replaced with the character 3 letters higher (wrapping around from Z to A), and every numeric character replaced with the character 3 digits higher (wrapping around from 9 to 0). Note that the non-alphanumeric characters remain unchanged.\n",
    "\n",
    "Given a string and a rotation factor, return an encrypted string.\n",
    "\n",
    "## Signature\n",
    "string rotationalCipher(string input, int rotationFactor)\n",
    "\n",
    "## Input\n",
    "1 <= |input| <= 1,000,000\n",
    "0 <= rotationFactor <= 1,000,000\n",
    "\n",
    "## Output\n",
    "Return the result of rotating input a number of times equal to rotationFactor.\n",
    "\n",
    "### Example 1\n",
    "* input = Zebra-493?\n",
    "* rotationFactor = 3\n",
    "* output = Cheud-726?\n",
    "\n",
    "### Example 2\n",
    "* input = abcdefghijklmNOPQRSTUVWXYZ0123456789\n",
    "* rotationFactor = 39\n",
    "* output = nopqrstuvwxyzABCDEFGHIJKLM9012345678"
   ]
  },
  {
   "cell_type": "code",
   "execution_count": 1,
   "metadata": {},
   "outputs": [],
   "source": [
    "# Import relevant libraries\n",
    "import math\n",
    "import string\n",
    "\n",
    "def rotationalCipher(input, rotation_factor):\n",
    "  \n",
    "  # Create an empty string\n",
    "  result = ''\n",
    "  \n",
    "  # Create the variable to withold punctuation\n",
    "  punctuation = string.punctuation\n",
    "  \n",
    "  # Transverse the input text\n",
    "  for i in range(len(input)):\n",
    "    char = input[i]\n",
    "        \n",
    "    # Encrypt uppercase characters in plain text\n",
    "    if(char.isupper()):\n",
    "      result += chr((ord(char) + rotation_factor - 65) % 26 + 65)   # Uppercase A - Z have ASCII number 65 through 90\n",
    "         \n",
    "    # Encrypt lowercase characters in plain text\n",
    "    elif(char.islower()):\n",
    "      result += chr((ord(char) + rotation_factor - 97) % 26 + 97)   # Lowercase a - z have ASCII number 97 through 122\n",
    "    \n",
    "    elif(char not in punctuation):\n",
    "      result += chr((ord(char) + rotation_factor - 48) % 10 + 48)   # Numeric digits have ASCII number 48 through 57\n",
    "      \n",
    "     # Keep punctuation unchanged\n",
    "    else:\n",
    "      result += char\n",
    "  return result"
   ]
  },
  {
   "cell_type": "code",
   "execution_count": 7,
   "metadata": {},
   "outputs": [
    {
     "data": {
      "text/plain": [
       "('All-convoYs-9-be:Alert1.', 4)"
      ]
     },
     "execution_count": 7,
     "metadata": {},
     "output_type": "execute_result"
    }
   ],
   "source": [
    "input_1 = \"All-convoYs-9-be:Alert1.\"\n",
    "rf_1 = 4\n",
    "input_1, rf_1"
   ]
  },
  {
   "cell_type": "code",
   "execution_count": 9,
   "metadata": {},
   "outputs": [
    {
     "data": {
      "text/plain": [
       "('abcdZXYzxy-999.@', 200)"
      ]
     },
     "execution_count": 9,
     "metadata": {},
     "output_type": "execute_result"
    }
   ],
   "source": [
    "input_2 = 'abcdZXYzxy-999.@'\n",
    "rf_2 = 200\n",
    "input_2, rf_2"
   ]
  },
  {
   "cell_type": "code",
   "execution_count": 10,
   "metadata": {},
   "outputs": [
    {
     "data": {
      "text/plain": [
       "('Zebra-493?', 3)"
      ]
     },
     "execution_count": 10,
     "metadata": {},
     "output_type": "execute_result"
    }
   ],
   "source": [
    "input_3 = 'Zebra-493?'\n",
    "rf_3 = 3\n",
    "input_3, rf_3"
   ]
  },
  {
   "cell_type": "code",
   "execution_count": 11,
   "metadata": {},
   "outputs": [
    {
     "data": {
      "text/plain": [
       "('abcdefghijklmNOPQRSTUVWXYZ0123456789', 39)"
      ]
     },
     "execution_count": 11,
     "metadata": {},
     "output_type": "execute_result"
    }
   ],
   "source": [
    "input_4 = 'abcdefghijklmNOPQRSTUVWXYZ0123456789'\n",
    "rf_4 = 39\n",
    "input_4, rf_4"
   ]
  },
  {
   "cell_type": "code",
   "execution_count": 12,
   "metadata": {
    "scrolled": true
   },
   "outputs": [
    {
     "data": {
      "text/plain": [
       "'Epp-gsrzsCw-3-fi:Epivx5.'"
      ]
     },
     "execution_count": 12,
     "metadata": {},
     "output_type": "execute_result"
    }
   ],
   "source": [
    "rotationalCipher(input_1, rf_1)"
   ]
  },
  {
   "cell_type": "code",
   "execution_count": 13,
   "metadata": {},
   "outputs": [
    {
     "data": {
      "text/plain": [
       "'stuvRPQrpq-999.@'"
      ]
     },
     "execution_count": 13,
     "metadata": {},
     "output_type": "execute_result"
    }
   ],
   "source": [
    "rotationalCipher(input_2, rf_2)"
   ]
  },
  {
   "cell_type": "code",
   "execution_count": 14,
   "metadata": {},
   "outputs": [
    {
     "data": {
      "text/plain": [
       "'Cheud-726?'"
      ]
     },
     "execution_count": 14,
     "metadata": {},
     "output_type": "execute_result"
    }
   ],
   "source": [
    "rotationalCipher(input_3, rf_3)"
   ]
  },
  {
   "cell_type": "code",
   "execution_count": 15,
   "metadata": {},
   "outputs": [
    {
     "data": {
      "text/plain": [
       "'nopqrstuvwxyzABCDEFGHIJKLM9012345678'"
      ]
     },
     "execution_count": 15,
     "metadata": {},
     "output_type": "execute_result"
    }
   ],
   "source": [
    "rotationalCipher(input_4, rf_4)"
   ]
  },
  {
   "cell_type": "code",
   "execution_count": null,
   "metadata": {},
   "outputs": [],
   "source": []
  }
 ],
 "metadata": {
  "kernelspec": {
   "display_name": "Python 3",
   "language": "python",
   "name": "python3"
  },
  "language_info": {
   "codemirror_mode": {
    "name": "ipython",
    "version": 3
   },
   "file_extension": ".py",
   "mimetype": "text/x-python",
   "name": "python",
   "nbconvert_exporter": "python",
   "pygments_lexer": "ipython3",
   "version": "3.7.5"
  }
 },
 "nbformat": 4,
 "nbformat_minor": 2
}
