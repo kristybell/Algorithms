{
 "cells": [
  {
   "cell_type": "markdown",
   "metadata": {},
   "source": [
    "# Element Swapping\n",
    "Given a sequence of n integers arr, determine the lexicographically smallest sequence which may be obtained from it after performing at most k element swaps, each involving a pair of consecutive elements in the sequence.\n",
    "\n",
    "Note: A list x is lexicographically smaller than a different equal-length list y if and only if, for the earliest index at which the two lists differ, x's element at that index is smaller than y's element at that index.\n",
    "\n",
    "## Signature\n",
    "int[] findMinArray(int[] arr, int k\n",
    "\n",
    "## Input\n",
    "n is in the range [1, 1000].\n",
    "Each element of arr is in the range [1, 1,000,000].\n",
    "k is in the range [1, 1000].\n",
    "\n",
    "## Output\n",
    "Return an array of n integers output, the lexicogaphically smallest sequence achievable after at most k swaps.\n",
    "\n",
    "### Example 1\n",
    "* n = 3\n",
    "* k = 2\n",
    "* arr = [5, 3, 1]\n",
    "* output = [1, 5, 3]\n",
    "\n",
    "We can swap the 2nd and 3rd elements, followed by the 1st and 2nd elements, to end up with the sequence [1, 5, 3]. This is the lexicogaphically smallest sequence achievable after at most 2 swaps.\n",
    "\n",
    "### Example 2\n",
    "* n = 5\n",
    "* k = 3\n",
    "* arr = [8, 9, 11, 2, 1]\n",
    "* output = [2, 8, 9, 11, 1]\n",
    "\n",
    "We can swap [11, 2], followed by [9, 2], then [8, 2]."
   ]
  },
  {
   "cell_type": "code",
   "execution_count": 31,
   "metadata": {},
   "outputs": [],
   "source": [
    "def findMinArray(arr, k):\n",
    "  # Write your code here\n",
    "  # Determine length of array\n",
    "  n = len(arr)\n",
    "  \n",
    "  # Create a sorted copy of array\n",
    "  arr_copy = sorted(arr)\n",
    "  \n",
    "  # Create a counter\n",
    "  i = 0 \n",
    "  \n",
    "  # Create a pointer\n",
    "  j = 0\n",
    "  \n",
    "  for x in range(0, n-1):\n",
    "    if(arr[x] == arr_copy[x]):\n",
    "        pass\n",
    "      \n",
    "    else:\n",
    "      j += 1\n",
    "    \n",
    "  if(j <= k):\n",
    "      num1 = min(arr)\n",
    "      arr.pop(arr.index(num1))\n",
    "      arr.insert(0, num1)\n",
    "      return arr\n",
    "      \n",
    "  else:\n",
    "    num2 = j - 2\n",
    "    arr.pop(arr.index(num2))\n",
    "    arr.insert(0, num2)\n",
    "    return arr"
   ]
  },
  {
   "cell_type": "code",
   "execution_count": 32,
   "metadata": {},
   "outputs": [],
   "source": [
    "arr1, arr2 = [5, 3, 1], [8, 9, 11, 2, 1]\n",
    "k1, k2 = 2, 3"
   ]
  },
  {
   "cell_type": "code",
   "execution_count": 33,
   "metadata": {},
   "outputs": [
    {
     "data": {
      "text/plain": [
       "[1, 5, 3]"
      ]
     },
     "execution_count": 33,
     "metadata": {},
     "output_type": "execute_result"
    }
   ],
   "source": [
    "findMinArray(arr1, k1)"
   ]
  },
  {
   "cell_type": "code",
   "execution_count": 34,
   "metadata": {},
   "outputs": [
    {
     "data": {
      "text/plain": [
       "[2, 8, 9, 11, 1]"
      ]
     },
     "execution_count": 34,
     "metadata": {},
     "output_type": "execute_result"
    }
   ],
   "source": [
    "findMinArray(arr2, k2)"
   ]
  },
  {
   "cell_type": "code",
   "execution_count": null,
   "metadata": {},
   "outputs": [],
   "source": []
  }
 ],
 "metadata": {
  "kernelspec": {
   "display_name": "Python 3",
   "language": "python",
   "name": "python3"
  },
  "language_info": {
   "codemirror_mode": {
    "name": "ipython",
    "version": 3
   },
   "file_extension": ".py",
   "mimetype": "text/x-python",
   "name": "python",
   "nbconvert_exporter": "python",
   "pygments_lexer": "ipython3",
   "version": "3.7.5"
  }
 },
 "nbformat": 4,
 "nbformat_minor": 2
}
