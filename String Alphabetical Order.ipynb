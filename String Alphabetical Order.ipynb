{
 "cells": [
  {
   "cell_type": "code",
   "execution_count": 1,
   "metadata": {},
   "outputs": [],
   "source": [
    "arr = ['cat', 'bat', 'yellow', 'tab']"
   ]
  },
  {
   "cell_type": "code",
   "execution_count": 8,
   "metadata": {},
   "outputs": [],
   "source": [
    "alpha = ['c', 'b', 'y', 't']"
   ]
  },
  {
   "cell_type": "code",
   "execution_count": 10,
   "metadata": {},
   "outputs": [],
   "source": [
    "arr2 = ['tba', 'tcah']\n",
    "alpha2 = ['t', 'c', 'b']"
   ]
  },
  {
   "cell_type": "code",
   "execution_count": 3,
   "metadata": {},
   "outputs": [
    {
     "data": {
      "text/plain": [
       "'cat'"
      ]
     },
     "execution_count": 3,
     "metadata": {},
     "output_type": "execute_result"
    }
   ],
   "source": [
    "arr[0]"
   ]
  },
  {
   "cell_type": "code",
   "execution_count": 4,
   "metadata": {},
   "outputs": [
    {
     "data": {
      "text/plain": [
       "'cat'"
      ]
     },
     "execution_count": 4,
     "metadata": {},
     "output_type": "execute_result"
    }
   ],
   "source": [
    "str1 = arr[0]\n",
    "str1"
   ]
  },
  {
   "cell_type": "code",
   "execution_count": 5,
   "metadata": {},
   "outputs": [
    {
     "data": {
      "text/plain": [
       "'c'"
      ]
     },
     "execution_count": 5,
     "metadata": {},
     "output_type": "execute_result"
    }
   ],
   "source": [
    "str1[0]"
   ]
  },
  {
   "cell_type": "code",
   "execution_count": 7,
   "metadata": {},
   "outputs": [
    {
     "data": {
      "text/plain": [
       "4"
      ]
     },
     "execution_count": 7,
     "metadata": {},
     "output_type": "execute_result"
    }
   ],
   "source": [
    "n = len(arr)\n",
    "n"
   ]
  },
  {
   "cell_type": "code",
   "execution_count": null,
   "metadata": {},
   "outputs": [],
   "source": []
  },
  {
   "cell_type": "code",
   "execution_count": 61,
   "metadata": {},
   "outputs": [],
   "source": [
    "def inAlphaOrder(arr, alpha):\n",
    "    i = 0\n",
    "    while(i < n):\n",
    "        print('i:', i)\n",
    "        for j in range(0, n-3):\n",
    "            print('j:', j)\n",
    "            str1 = arr[j]\n",
    "            str2 = arr[j+1]\n",
    "            print('str1:', str1)\n",
    "            print('str2:', str2)\n",
    "            # Check that first letters are contained within alphabet\n",
    "            if(str1[i] and str2[i] in alpha):\n",
    "                print('str1[0]:', str1[i])\n",
    "                char_num = 0\n",
    "                print('char_num:', char_num)\n",
    "                # Case 1: the character in each string match\n",
    "                if(str1[char_num] == str2[char_num]):\n",
    "                    char_num += 1\n",
    "                    pass\n",
    "          \n",
    "                # Case 2: first charater in each string are distinct\n",
    "                else:\n",
    "                    str1_order_in_alpha = alpha.index(str1[0])\n",
    "                    str2_order_in_alpha = alpha.index(str2[0])\n",
    "                    print('str1_order_in_alpha:', str1_order_in_alpha)\n",
    "                    print('str2_order_in_alpha:', str2_order_in_alpha)\n",
    "                    # Compare the order of the first character in each string\n",
    "                    if(str1_order_in_alpha < str2_order_in_alpha):\n",
    "                        if(len(str1) <= len(str2)):\n",
    "                            print('len(str1):', len(str1))\n",
    "                            return True\n",
    "                        else:\n",
    "                            return False\n",
    "                    else:\n",
    "                        return False\n",
    "            else:\n",
    "                return False\n",
    "        i += 1"
   ]
  },
  {
   "cell_type": "code",
   "execution_count": 62,
   "metadata": {},
   "outputs": [
    {
     "name": "stdout",
     "output_type": "stream",
     "text": [
      "i: 0\n",
      "j: 0\n",
      "str1: cat\n",
      "str2: bat\n",
      "str1[0]: c\n",
      "char_num: 0\n",
      "str1_order_in_alpha: 0\n",
      "str2_order_in_alpha: 1\n",
      "len(str1): 3\n"
     ]
    },
    {
     "data": {
      "text/plain": [
       "True"
      ]
     },
     "execution_count": 62,
     "metadata": {},
     "output_type": "execute_result"
    }
   ],
   "source": [
    "inAlphaOrder(arr, alpha)"
   ]
  },
  {
   "cell_type": "code",
   "execution_count": 63,
   "metadata": {},
   "outputs": [
    {
     "name": "stdout",
     "output_type": "stream",
     "text": [
      "i: 0\n",
      "j: 0\n",
      "str1: tba\n",
      "str2: tcah\n",
      "str1[0]: t\n",
      "char_num: 0\n",
      "i: 1\n",
      "j: 0\n",
      "str1: tba\n",
      "str2: tcah\n",
      "str1[0]: b\n",
      "char_num: 0\n",
      "i: 2\n",
      "j: 0\n",
      "str1: tba\n",
      "str2: tcah\n"
     ]
    },
    {
     "data": {
      "text/plain": [
       "False"
      ]
     },
     "execution_count": 63,
     "metadata": {},
     "output_type": "execute_result"
    }
   ],
   "source": [
    "inAlphaOrder(arr2, alpha2)"
   ]
  },
  {
   "cell_type": "code",
   "execution_count": null,
   "metadata": {},
   "outputs": [],
   "source": []
  }
 ],
 "metadata": {
  "kernelspec": {
   "display_name": "Python 3",
   "language": "python",
   "name": "python3"
  },
  "language_info": {
   "codemirror_mode": {
    "name": "ipython",
    "version": 3
   },
   "file_extension": ".py",
   "mimetype": "text/x-python",
   "name": "python",
   "nbconvert_exporter": "python",
   "pygments_lexer": "ipython3",
   "version": "3.7.5"
  }
 },
 "nbformat": 4,
 "nbformat_minor": 2
}
