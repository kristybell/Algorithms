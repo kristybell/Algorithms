{
 "cells": [
  {
   "cell_type": "markdown",
   "metadata": {},
   "source": [
    "# Median Stream\n",
    "\n",
    "You're given a list of n integers arr[0..(n-1)]. You must compute a list output [0...(n-1)] such that, for each index i (between 0 and n-1, inclusive) output[i] is equal to the median of the elemenrts arr[0..i] (rounded down to the nearest intger).\n",
    "\n",
    "The median of a list of integers is defined as follows. If the integers were to be sorted, then:\n",
    "* If there are an odd number of integers, then the median is equal to the middle integer in the sorted order.\n",
    "* Otherwise, if there are an even number of integers, then the median is equal to the average of the two middle-most integers in the sorted order.\n",
    "\n",
    "## Signature\n",
    "int[] findMedian(int[] arr)\n",
    "\n",
    "## Input\n",
    "* n is in the range [1, 1,000,000].\n",
    "* Each value arr[i] is in the range [1, 1,000,000].\n",
    "\n",
    "## Output\n",
    "Return a list of n integers output[0..(n-1)], as described above.\n",
    "\n",
    "### Example 1\n",
    "* n = 4\n",
    "* arr = [5, 15, 1, 3]\n",
    "* output = [5, 10, 5, 4]\n",
    "\n",
    "The median of [5] is 5, the median of [5, 15] is (5 + 15) / 2 = 10, the median of [5, 15, 1] is 5, and the median of [5, 15, 1, 3] is (3 + 5) / 2 = 4.\n",
    "\n",
    "### Example 2\n",
    "* n = 2\n",
    "* arr = [1, 2]\n",
    "* output = [1, 1]\n",
    "\n",
    "The median of [1] is 1, the median of [1, 2] is (1 + 2) / 2 = 1.5 (which should be rounded down to 1)."
   ]
  },
  {
   "cell_type": "code",
   "execution_count": 1,
   "metadata": {},
   "outputs": [
    {
     "data": {
      "text/plain": [
       "4"
      ]
     },
     "execution_count": 1,
     "metadata": {},
     "output_type": "execute_result"
    }
   ],
   "source": [
    "n = 4\n",
    "n"
   ]
  },
  {
   "cell_type": "code",
   "execution_count": 2,
   "metadata": {},
   "outputs": [
    {
     "data": {
      "text/plain": [
       "0"
      ]
     },
     "execution_count": 2,
     "metadata": {},
     "output_type": "execute_result"
    }
   ],
   "source": [
    "n % arr = [5, 15, 1, 3 ]"
   ]
  },
  {
   "cell_type": "code",
   "execution_count": 3,
   "metadata": {},
   "outputs": [
    {
     "data": {
      "text/plain": [
       "[1, 2, 3, 4, 5]"
      ]
     },
     "execution_count": 3,
     "metadata": {},
     "output_type": "execute_result"
    }
   ],
   "source": [
    "temp = [1,2,3,4,5]\n",
    "temp"
   ]
  },
  {
   "cell_type": "code",
   "execution_count": 5,
   "metadata": {},
   "outputs": [
    {
     "data": {
      "text/plain": [
       "[]"
      ]
     },
     "execution_count": 5,
     "metadata": {},
     "output_type": "execute_result"
    }
   ],
   "source": [
    "temp.clear()\n",
    "temp"
   ]
  },
  {
   "cell_type": "code",
   "execution_count": null,
   "metadata": {},
   "outputs": [],
   "source": []
  },
  {
   "cell_type": "code",
   "execution_count": 145,
   "metadata": {},
   "outputs": [
    {
     "data": {
      "text/plain": [
       "[5, 15, 1, 3]"
      ]
     },
     "execution_count": 145,
     "metadata": {},
     "output_type": "execute_result"
    }
   ],
   "source": [
    "arr = [5, 15, 1, 3]\n",
    "arr"
   ]
  },
  {
   "cell_type": "code",
   "execution_count": 266,
   "metadata": {},
   "outputs": [],
   "source": [
    "def findMedian(arr):\n",
    "    import math\n",
    "    n = len(arr)\n",
    "    output = []\n",
    "    i = 0\n",
    "    while(i < n):\n",
    "    \n",
    "        if(i == 0):\n",
    "            output.append(arr[0])\n",
    "            temp = output.copy()\n",
    "            i += 1\n",
    "          \n",
    "        else:\n",
    "            for a in range(1, n):\n",
    "                temp.append(arr[a])\n",
    "                temp = sorted(temp)\n",
    "                j = len(temp)\n",
    "            \n",
    "        \n",
    "            \n",
    "                if(j % 2 == 0):\n",
    "                    index1 = j//2\n",
    "                    index2 =  index1 - 1\n",
    "                    b = temp[index1]\n",
    "                    c = temp[index2]\n",
    "                    avg = math.floor((b + c) / 2)\n",
    "                    output.append(avg)\n",
    "                    i += 1    \n",
    "      \n",
    "                else:\n",
    "                    k = math.floor(j/2)\n",
    "                    output.append(temp[k])\n",
    "                    i += 1\n",
    "        \n",
    "    return output"
   ]
  },
  {
   "cell_type": "code",
   "execution_count": 267,
   "metadata": {
    "scrolled": true
   },
   "outputs": [
    {
     "data": {
      "text/plain": [
       "[5, 10, 5, 4]"
      ]
     },
     "execution_count": 267,
     "metadata": {},
     "output_type": "execute_result"
    }
   ],
   "source": [
    "findMedian(arr)"
   ]
  },
  {
   "cell_type": "code",
   "execution_count": 268,
   "metadata": {},
   "outputs": [
    {
     "data": {
      "text/plain": [
       "[2, 4, 7, 1, 5, 3]"
      ]
     },
     "execution_count": 268,
     "metadata": {},
     "output_type": "execute_result"
    }
   ],
   "source": [
    "arr_2 = [2, 4, 7, 1, 5, 3]\n",
    "arr_2"
   ]
  },
  {
   "cell_type": "code",
   "execution_count": 269,
   "metadata": {},
   "outputs": [
    {
     "data": {
      "text/plain": [
       "[2, 3, 4, 3, 4, 3]"
      ]
     },
     "execution_count": 269,
     "metadata": {},
     "output_type": "execute_result"
    }
   ],
   "source": [
    "findMedian(arr_2)"
   ]
  },
  {
   "cell_type": "code",
   "execution_count": null,
   "metadata": {},
   "outputs": [],
   "source": []
  }
 ],
 "metadata": {
  "kernelspec": {
   "display_name": "Python 3",
   "language": "python",
   "name": "python3"
  },
  "language_info": {
   "codemirror_mode": {
    "name": "ipython",
    "version": 3
   },
   "file_extension": ".py",
   "mimetype": "text/x-python",
   "name": "python",
   "nbconvert_exporter": "python",
   "pygments_lexer": "ipython3",
   "version": "3.7.5"
  }
 },
 "nbformat": 4,
 "nbformat_minor": 2
}
